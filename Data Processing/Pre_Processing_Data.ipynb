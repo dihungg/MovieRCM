{
 "cells": [
  {
   "cell_type": "markdown",
   "metadata": {},
   "source": [
    "# **PART 2. DATA PREPROCESSING**"
   ]
  },
  {
   "cell_type": "markdown",
   "metadata": {},
   "source": [
    "## **1. Overview of preprocessing and data exploration**\n",
    "- Handling missing data\n",
    "- Noise handling\n",
    "- Standardize data\n",
    "-  Give first glimpses of data"
   ]
  },
  {
   "cell_type": "markdown",
   "metadata": {},
   "source": [
    "## **2. Read the original obtained data file**\n"
   ]
  },
  {
   "cell_type": "markdown",
   "metadata": {},
   "source": [
    "### Import libraries"
   ]
  },
  {
   "cell_type": "code",
   "execution_count": 1,
   "metadata": {},
   "outputs": [],
   "source": [
    "#import library\n",
    "import requests\n",
    "import numpy as np\n",
    "import pandas as pd"
   ]
  },
  {
   "cell_type": "code",
   "execution_count": 2,
   "metadata": {},
   "outputs": [],
   "source": [
    "#Read data\n",
    "IMDB = pd.read_csv('imdb.csv')\n",
    "TMDB = pd.read_csv('TMDB.csv')\n",
    "ROTTEN = pd.read_csv('rotten.csv')"
   ]
  },
  {
   "cell_type": "code",
   "execution_count": 3,
   "metadata": {},
   "outputs": [
    {
     "name": "stdout",
     "output_type": "stream",
     "text": [
      "                      Title  imdbRating\n",
      "0  The Shawshank Redemption         9.3\n",
      "1             The Godfather         9.2\n",
      "2           The Dark Knight         9.0\n",
      "3     The Godfather Part II         9.0\n",
      "4              12 Angry Men         9.0\n"
     ]
    }
   ],
   "source": [
    "print(IMDB.head())"
   ]
  },
  {
   "cell_type": "code",
   "execution_count": 4,
   "metadata": {},
   "outputs": [
    {
     "name": "stdout",
     "output_type": "stream",
     "text": [
      "                                         Poster_Link  \\\n",
      "0  https://image.tmdb.org/t/p/w500/9cqNxx0GxF0bfl...   \n",
      "1  https://image.tmdb.org/t/p/w500/3bhkrj58Vtu7en...   \n",
      "2  https://image.tmdb.org/t/p/w500/hek3koDUyRQk7F...   \n",
      "3  https://image.tmdb.org/t/p/w500/sF1U4EUQS8YHUY...   \n",
      "4  https://image.tmdb.org/t/p/w500/ow3wq89wM8qd5X...   \n",
      "\n",
      "                      Title  \\\n",
      "0  The Shawshank Redemption   \n",
      "1             The Godfather   \n",
      "2     The Godfather Part II   \n",
      "3          Schindler's List   \n",
      "4              12 Angry Men   \n",
      "\n",
      "                                            Overview Certificate  \\\n",
      "0  Imprisoned in the 1940s for the double murder ...           R   \n",
      "1  Spanning the years 1945 to 1955, a chronicle o...           R   \n",
      "2  In the continuing saga of the Corleone crime f...           R   \n",
      "3  The true story of how businessman Oskar Schind...           R   \n",
      "4  The defense and the prosecution have rested an...          NR   \n",
      "\n",
      "   Runtime (min)                Genre  \\\n",
      "0            142         Drama, Crime   \n",
      "1            175         Drama, Crime   \n",
      "2            202         Drama, Crime   \n",
      "3            195  Drama, History, War   \n",
      "4             97                Drama   \n",
      "\n",
      "                                              Actors              Director  \\\n",
      "0  Morgan Freeman, Tim Robbins, Bob Gunton, Willi...        Frank Darabont   \n",
      "1  Marlon Brando, Al Pacino, James Caan, Robert D...  Francis Ford Coppola   \n",
      "2  Al Pacino, Robert Duvall, Diane Keaton, Robert...  Francis Ford Coppola   \n",
      "3  Liam Neeson, Ben Kingsley, Ralph Fiennes, Caro...      Steven Spielberg   \n",
      "4  Martin Balsam, John Fiedler, Lee J. Cobb, E.G....          Sidney Lumet   \n",
      "\n",
      "   Year  tmdbRating  \n",
      "0  1994       8.700  \n",
      "1  1972       8.686  \n",
      "2  1974       8.570  \n",
      "3  1993       8.564  \n",
      "4  1957       8.548  \n"
     ]
    }
   ],
   "source": [
    "print (TMDB.head())"
   ]
  },
  {
   "cell_type": "code",
   "execution_count": 5,
   "metadata": {},
   "outputs": [
    {
     "name": "stdout",
     "output_type": "stream",
     "text": [
      "               Title  rottenRating\n",
      "0      The Godfather            97\n",
      "1         Casablanca            99\n",
      "2  L.A. Confidential            99\n",
      "3      Seven Samurai           100\n",
      "4           Parasite            99\n"
     ]
    }
   ],
   "source": [
    "print (ROTTEN.head())"
   ]
  },
  {
   "cell_type": "code",
   "execution_count": 6,
   "metadata": {},
   "outputs": [],
   "source": [
    "# # Loại bỏ các dấu ngoặc trong cột imdbRating của của DataFrame IMDB\n",
    "# IMDB['imdbRating'] = IMDB['imdbRating'].str.replace('[(),]', '', regex=True).astype(float)\n",
    "# # Chuyển đổi kiểu dữ liệu của cột imdbRating thành float    \n",
    "# IMDB['imdbRating'] = IMDB['imdbRating'].astype(float)\n",
    "# # Lưu lại vào file CSV \n",
    "# IMDB.to_csv('imdb.csv', index=False)"
   ]
  },
  {
   "cell_type": "code",
   "execution_count": 7,
   "metadata": {},
   "outputs": [
    {
     "name": "stdout",
     "output_type": "stream",
     "text": [
      "                      Title  imdbRating\n",
      "0  The Shawshank Redemption         9.3\n",
      "1             The Godfather         9.2\n",
      "2           The Dark Knight         9.0\n",
      "3     The Godfather Part II         9.0\n",
      "4              12 Angry Men         9.0\n"
     ]
    }
   ],
   "source": [
    "print (IMDB.head())"
   ]
  },
  {
   "cell_type": "code",
   "execution_count": 8,
   "metadata": {},
   "outputs": [
    {
     "name": "stdout",
     "output_type": "stream",
     "text": [
      "                      Title  imdbRating  \\\n",
      "0  The Shawshank Redemption         9.3   \n",
      "1             The Godfather         9.2   \n",
      "2           The Dark Knight         9.0   \n",
      "3     The Godfather Part II         9.0   \n",
      "4              12 Angry Men         9.0   \n",
      "\n",
      "                                         Poster_Link  \\\n",
      "0  https://image.tmdb.org/t/p/w500/9cqNxx0GxF0bfl...   \n",
      "1  https://image.tmdb.org/t/p/w500/3bhkrj58Vtu7en...   \n",
      "2  https://image.tmdb.org/t/p/w500/qJ2tW6WMUDux91...   \n",
      "3  https://image.tmdb.org/t/p/w500/3bhkrj58Vtu7en...   \n",
      "4  https://image.tmdb.org/t/p/w500/ow3wq89wM8qd5X...   \n",
      "\n",
      "                                            Overview Certificate  \\\n",
      "0  Imprisoned in the 1940s for the double murder ...           R   \n",
      "1  Spanning the years 1945 to 1955, a chronicle o...           R   \n",
      "2  Batman raises the stakes in his war on crime. ...       PG-13   \n",
      "3  Spanning the years 1945 to 1955, a chronicle o...           R   \n",
      "4  The defense and the prosecution have rested an...          NR   \n",
      "\n",
      "   Runtime (min)                           Genre  \\\n",
      "0          142.0                    Drama, Crime   \n",
      "1          175.0                    Drama, Crime   \n",
      "2          152.0  Drama, Action, Crime, Thriller   \n",
      "3          175.0                    Drama, Crime   \n",
      "4           97.0                           Drama   \n",
      "\n",
      "                                              Actors              Director  \\\n",
      "0  Morgan Freeman, Tim Robbins, Bob Gunton, Willi...        Frank Darabont   \n",
      "1  Marlon Brando, Al Pacino, James Caan, Robert D...  Francis Ford Coppola   \n",
      "2  Christian Bale, Heath Ledger, Aaron Eckhart, M...     Christopher Nolan   \n",
      "3  Marlon Brando, Al Pacino, James Caan, Robert D...  Francis Ford Coppola   \n",
      "4  Martin Balsam, John Fiedler, Lee J. Cobb, E.G....          Sidney Lumet   \n",
      "\n",
      "     Year  tmdbRating  rottenRating  \n",
      "0  1994.0       8.700           NaN  \n",
      "1  1972.0       8.686          97.0  \n",
      "2  2008.0       8.500          94.0  \n",
      "3  1972.0       8.686          97.0  \n",
      "4  1957.0       8.548         100.0  \n"
     ]
    }
   ],
   "source": [
    "import pandas as pd\n",
    "from fuzzywuzzy import fuzz, process\n",
    "\n",
    "# Đọc 3 file\n",
    "df1 = pd.read_csv('imdb.csv')\n",
    "df2 = pd.read_csv('TMDB.csv')\n",
    "df3 = pd.read_csv('rotten.csv')\n",
    "\n",
    "# Danh sách tiêu đề của từng file thứ 2, thứ 3\n",
    "titles_b = df2['Title'].tolist()\n",
    "titles_c = df3['Title'].tolist()\n",
    "\n",
    "# Hàm tìm match trong một danh sách tiêu đề với ngưỡng score\n",
    "def match_title(title, choices, threshold=90):\n",
    "    match, score = process.extractOne(title, choices, scorer=fuzz.token_set_ratio)\n",
    "    return match if score >= threshold else None\n",
    "\n",
    "# 1) Match df1 -> df2\n",
    "df1['Matched_B'] = df1['Title'].apply(lambda t: match_title(t, titles_b))\n",
    "\n",
    "# 2) Match df1 -> df3 (dùng cột gốc Title, hoặc có thể dùng Matched_B nếu muốn chain)\n",
    "df1['Matched_C'] = df1['Title'].apply(lambda t: match_title(t, titles_c))\n",
    "\n",
    "# 3) Gộp kết quả với df2 và df3\n",
    "#   a) với df2\n",
    "merged = pd.merge(\n",
    "    df1, df2,\n",
    "    left_on='Matched_B', right_on='Title',\n",
    "    how='left',\n",
    "    suffixes=('', '_b')\n",
    ")\n",
    "\n",
    "#   b) với df3\n",
    "merged = pd.merge(\n",
    "    merged, df3,\n",
    "    left_on='Matched_C', right_on='Title',\n",
    "    how='left',\n",
    "    suffixes=('', '_c')\n",
    ")\n",
    "\n",
    "# 4) Xoá cột tạm và cột Title bên merge phụ\n",
    "merged.drop(['Matched_B', 'Matched_C', 'Title_b', 'Title_c'], axis=1, inplace=True)\n",
    "\n",
    "# Kết quả cuối\n",
    "print(merged.head())\n",
    "merged.to_csv('merged_3files.csv', index=False)\n",
    "\n",
    "data = merged\n"
   ]
  },
  {
   "cell_type": "markdown",
   "metadata": {},
   "source": [
    "## Does the raw data have duplicate rows?"
   ]
  },
  {
   "cell_type": "code",
   "execution_count": 9,
   "metadata": {},
   "outputs": [
    {
     "name": "stdout",
     "output_type": "stream",
     "text": [
      "✅ Your data has no duplicated rows.\n"
     ]
    }
   ],
   "source": [
    "# Check if data have duplicate rows\n",
    "num_duplicated_rows = data.duplicated().sum()\n",
    "if num_duplicated_rows > 0:\n",
    "    print(f\"Found {num_duplicated_rows} duplicated rows. Removing duplicates...\")\n",
    "    data = data.drop_duplicates()\n",
    "    print(\"✅ Duplicates removed.\")\n",
    "else:\n",
    "    print(\"✅ Your data has no duplicated rows.\")"
   ]
  },
  {
   "cell_type": "markdown",
   "metadata": {},
   "source": [
    "## **3. What data type does each column currently have? Are there any columns whose data types are not suitable for further processing?**"
   ]
  },
  {
   "cell_type": "code",
   "execution_count": 10,
   "metadata": {},
   "outputs": [
    {
     "name": "stdout",
     "output_type": "stream",
     "text": [
      "Data types of each column:\n",
      "Title             object\n",
      "imdbRating       float64\n",
      "Poster_Link       object\n",
      "Overview          object\n",
      "Certificate       object\n",
      "Runtime (min)    float64\n",
      "Genre             object\n",
      "Actors            object\n",
      "Director          object\n",
      "Year             float64\n",
      "tmdbRating       float64\n",
      "rottenRating     float64\n",
      "dtype: object\n"
     ]
    }
   ],
   "source": [
    "#Type of each column\n",
    "dtypes = data.dtypes\n",
    "print(\"Data types of each column:\")\n",
    "print(dtypes)"
   ]
  },
  {
   "cell_type": "markdown",
   "metadata": {},
   "source": [
    "## **4. Check the percentage of missing data in the columns**"
   ]
  },
  {
   "cell_type": "code",
   "execution_count": 11,
   "metadata": {},
   "outputs": [
    {
     "name": "stdout",
     "output_type": "stream",
     "text": [
      "Missing ratio\n",
      "Title             0.0\n",
      "imdbRating        0.0\n",
      "Poster_Link      16.8\n",
      "Overview         16.8\n",
      "Certificate      20.4\n",
      "Runtime (min)    16.8\n",
      "Genre            16.8\n",
      "Actors           16.8\n",
      "Director         16.8\n",
      "Year             16.8\n",
      "tmdbRating       16.8\n",
      "rottenRating     45.2\n",
      "dtype: float64\n"
     ]
    }
   ],
   "source": [
    "#Percentage of missing data\n",
    "missing_percentage = data.isnull().mean() * 100\n",
    "print(\"Missing ratio\")\n",
    "print(missing_percentage)"
   ]
  },
  {
   "cell_type": "markdown",
   "metadata": {},
   "source": [
    "- After identifying the basic statistical numbers that describe data, we further need to determine the features that have a large number of missing values. Such features are not useful for the analysis stage and must be removed from the dataset.\n",
    "\n",
    "- Depending on goals, the threshold for \"large\" can be defined. Usually, if the percentage of missing values is greater than 75%, the column is dropped from the dataframe and an updated dataframe is returned."
   ]
  },
  {
   "cell_type": "code",
   "execution_count": 12,
   "metadata": {},
   "outputs": [
    {
     "data": {
      "application/vnd.microsoft.datawrangler.viewer.v0+json": {
       "columns": [
        {
         "name": "index",
         "rawType": "int64",
         "type": "integer"
        },
        {
         "name": "Title",
         "rawType": "object",
         "type": "string"
        },
        {
         "name": "imdbRating",
         "rawType": "float64",
         "type": "float"
        },
        {
         "name": "Poster_Link",
         "rawType": "object",
         "type": "string"
        },
        {
         "name": "Overview",
         "rawType": "object",
         "type": "string"
        },
        {
         "name": "Certificate",
         "rawType": "object",
         "type": "string"
        },
        {
         "name": "Runtime (min)",
         "rawType": "float64",
         "type": "float"
        },
        {
         "name": "Genre",
         "rawType": "object",
         "type": "string"
        },
        {
         "name": "Actors",
         "rawType": "object",
         "type": "string"
        },
        {
         "name": "Director",
         "rawType": "object",
         "type": "string"
        },
        {
         "name": "Year",
         "rawType": "float64",
         "type": "float"
        },
        {
         "name": "tmdbRating",
         "rawType": "float64",
         "type": "float"
        },
        {
         "name": "rottenRating",
         "rawType": "float64",
         "type": "float"
        }
       ],
       "conversionMethod": "pd.DataFrame",
       "ref": "be308768-aa80-42b9-a6b2-93148faa02ea",
       "rows": [
        [
         "0",
         "The Shawshank Redemption",
         "9.3",
         "https://image.tmdb.org/t/p/w500/9cqNxx0GxF0bflZmeSMuL5tnGzr.jpg",
         "Imprisoned in the 1940s for the double murder of his wife and her lover, upstanding banker Andy Dufresne begins a new life at the Shawshank prison, where he puts his accounting skills to work for an amoral warden. During his long stretch in prison, Dufresne comes to be admired by the other inmates -- including an older prisoner named Red -- for his integrity and unquenchable sense of hope.",
         "R",
         "142.0",
         "Drama, Crime",
         "Morgan Freeman, Tim Robbins, Bob Gunton, William Sadler, Clancy Brown",
         "Frank Darabont",
         "1994.0",
         "8.7",
         null
        ],
        [
         "1",
         "The Godfather",
         "9.2",
         "https://image.tmdb.org/t/p/w500/3bhkrj58Vtu7enYsRolD1fZdja1.jpg",
         "Spanning the years 1945 to 1955, a chronicle of the fictional Italian-American Corleone crime family. When organized crime family patriarch, Vito Corleone barely survives an attempt on his life, his youngest son, Michael steps in to take care of the would-be killers, launching a campaign of bloody revenge.",
         "R",
         "175.0",
         "Drama, Crime",
         "Marlon Brando, Al Pacino, James Caan, Robert Duvall, Richard S. Castellano",
         "Francis Ford Coppola",
         "1972.0",
         "8.686",
         "97.0"
        ],
        [
         "2",
         "The Dark Knight",
         "9.0",
         "https://image.tmdb.org/t/p/w500/qJ2tW6WMUDux911r6m7haRef0WH.jpg",
         "Batman raises the stakes in his war on crime. With the help of Lt. Jim Gordon and District Attorney Harvey Dent, Batman sets out to dismantle the remaining criminal organizations that plague the streets. The partnership proves to be effective, but they soon find themselves prey to a reign of chaos unleashed by a rising criminal mastermind known to the terrified citizens of Gotham as the Joker.",
         "PG-13",
         "152.0",
         "Drama, Action, Crime, Thriller",
         "Christian Bale, Heath Ledger, Aaron Eckhart, Michael Caine, Maggie Gyllenhaal",
         "Christopher Nolan",
         "2008.0",
         "8.5",
         "94.0"
        ],
        [
         "3",
         "The Godfather Part II",
         "9.0",
         "https://image.tmdb.org/t/p/w500/3bhkrj58Vtu7enYsRolD1fZdja1.jpg",
         "Spanning the years 1945 to 1955, a chronicle of the fictional Italian-American Corleone crime family. When organized crime family patriarch, Vito Corleone barely survives an attempt on his life, his youngest son, Michael steps in to take care of the would-be killers, launching a campaign of bloody revenge.",
         "R",
         "175.0",
         "Drama, Crime",
         "Marlon Brando, Al Pacino, James Caan, Robert Duvall, Richard S. Castellano",
         "Francis Ford Coppola",
         "1972.0",
         "8.686",
         "97.0"
        ],
        [
         "4",
         "12 Angry Men",
         "9.0",
         "https://image.tmdb.org/t/p/w500/ow3wq89wM8qd5X7hWKxiRfsFf9C.jpg",
         "The defense and the prosecution have rested and the jury is filing into the jury room to decide if a young Spanish-American is guilty or innocent of murdering his father. What begins as an open and shut case soon becomes a mini-drama of each of the jurors' prejudices and preconceptions about the trial, the accused, and each other.",
         "NR",
         "97.0",
         "Drama",
         "Martin Balsam, John Fiedler, Lee J. Cobb, E.G. Marshall, Jack Klugman",
         "Sidney Lumet",
         "1957.0",
         "8.548",
         "100.0"
        ]
       ],
       "shape": {
        "columns": 12,
        "rows": 5
       }
      },
      "text/html": [
       "<div>\n",
       "<style scoped>\n",
       "    .dataframe tbody tr th:only-of-type {\n",
       "        vertical-align: middle;\n",
       "    }\n",
       "\n",
       "    .dataframe tbody tr th {\n",
       "        vertical-align: top;\n",
       "    }\n",
       "\n",
       "    .dataframe thead th {\n",
       "        text-align: right;\n",
       "    }\n",
       "</style>\n",
       "<table border=\"1\" class=\"dataframe\">\n",
       "  <thead>\n",
       "    <tr style=\"text-align: right;\">\n",
       "      <th></th>\n",
       "      <th>Title</th>\n",
       "      <th>imdbRating</th>\n",
       "      <th>Poster_Link</th>\n",
       "      <th>Overview</th>\n",
       "      <th>Certificate</th>\n",
       "      <th>Runtime (min)</th>\n",
       "      <th>Genre</th>\n",
       "      <th>Actors</th>\n",
       "      <th>Director</th>\n",
       "      <th>Year</th>\n",
       "      <th>tmdbRating</th>\n",
       "      <th>rottenRating</th>\n",
       "    </tr>\n",
       "  </thead>\n",
       "  <tbody>\n",
       "    <tr>\n",
       "      <th>0</th>\n",
       "      <td>The Shawshank Redemption</td>\n",
       "      <td>9.3</td>\n",
       "      <td>https://image.tmdb.org/t/p/w500/9cqNxx0GxF0bfl...</td>\n",
       "      <td>Imprisoned in the 1940s for the double murder ...</td>\n",
       "      <td>R</td>\n",
       "      <td>142.0</td>\n",
       "      <td>Drama, Crime</td>\n",
       "      <td>Morgan Freeman, Tim Robbins, Bob Gunton, Willi...</td>\n",
       "      <td>Frank Darabont</td>\n",
       "      <td>1994.0</td>\n",
       "      <td>8.700</td>\n",
       "      <td>NaN</td>\n",
       "    </tr>\n",
       "    <tr>\n",
       "      <th>1</th>\n",
       "      <td>The Godfather</td>\n",
       "      <td>9.2</td>\n",
       "      <td>https://image.tmdb.org/t/p/w500/3bhkrj58Vtu7en...</td>\n",
       "      <td>Spanning the years 1945 to 1955, a chronicle o...</td>\n",
       "      <td>R</td>\n",
       "      <td>175.0</td>\n",
       "      <td>Drama, Crime</td>\n",
       "      <td>Marlon Brando, Al Pacino, James Caan, Robert D...</td>\n",
       "      <td>Francis Ford Coppola</td>\n",
       "      <td>1972.0</td>\n",
       "      <td>8.686</td>\n",
       "      <td>97.0</td>\n",
       "    </tr>\n",
       "    <tr>\n",
       "      <th>2</th>\n",
       "      <td>The Dark Knight</td>\n",
       "      <td>9.0</td>\n",
       "      <td>https://image.tmdb.org/t/p/w500/qJ2tW6WMUDux91...</td>\n",
       "      <td>Batman raises the stakes in his war on crime. ...</td>\n",
       "      <td>PG-13</td>\n",
       "      <td>152.0</td>\n",
       "      <td>Drama, Action, Crime, Thriller</td>\n",
       "      <td>Christian Bale, Heath Ledger, Aaron Eckhart, M...</td>\n",
       "      <td>Christopher Nolan</td>\n",
       "      <td>2008.0</td>\n",
       "      <td>8.500</td>\n",
       "      <td>94.0</td>\n",
       "    </tr>\n",
       "    <tr>\n",
       "      <th>3</th>\n",
       "      <td>The Godfather Part II</td>\n",
       "      <td>9.0</td>\n",
       "      <td>https://image.tmdb.org/t/p/w500/3bhkrj58Vtu7en...</td>\n",
       "      <td>Spanning the years 1945 to 1955, a chronicle o...</td>\n",
       "      <td>R</td>\n",
       "      <td>175.0</td>\n",
       "      <td>Drama, Crime</td>\n",
       "      <td>Marlon Brando, Al Pacino, James Caan, Robert D...</td>\n",
       "      <td>Francis Ford Coppola</td>\n",
       "      <td>1972.0</td>\n",
       "      <td>8.686</td>\n",
       "      <td>97.0</td>\n",
       "    </tr>\n",
       "    <tr>\n",
       "      <th>4</th>\n",
       "      <td>12 Angry Men</td>\n",
       "      <td>9.0</td>\n",
       "      <td>https://image.tmdb.org/t/p/w500/ow3wq89wM8qd5X...</td>\n",
       "      <td>The defense and the prosecution have rested an...</td>\n",
       "      <td>NR</td>\n",
       "      <td>97.0</td>\n",
       "      <td>Drama</td>\n",
       "      <td>Martin Balsam, John Fiedler, Lee J. Cobb, E.G....</td>\n",
       "      <td>Sidney Lumet</td>\n",
       "      <td>1957.0</td>\n",
       "      <td>8.548</td>\n",
       "      <td>100.0</td>\n",
       "    </tr>\n",
       "  </tbody>\n",
       "</table>\n",
       "</div>"
      ],
      "text/plain": [
       "                      Title  imdbRating  \\\n",
       "0  The Shawshank Redemption         9.3   \n",
       "1             The Godfather         9.2   \n",
       "2           The Dark Knight         9.0   \n",
       "3     The Godfather Part II         9.0   \n",
       "4              12 Angry Men         9.0   \n",
       "\n",
       "                                         Poster_Link  \\\n",
       "0  https://image.tmdb.org/t/p/w500/9cqNxx0GxF0bfl...   \n",
       "1  https://image.tmdb.org/t/p/w500/3bhkrj58Vtu7en...   \n",
       "2  https://image.tmdb.org/t/p/w500/qJ2tW6WMUDux91...   \n",
       "3  https://image.tmdb.org/t/p/w500/3bhkrj58Vtu7en...   \n",
       "4  https://image.tmdb.org/t/p/w500/ow3wq89wM8qd5X...   \n",
       "\n",
       "                                            Overview Certificate  \\\n",
       "0  Imprisoned in the 1940s for the double murder ...           R   \n",
       "1  Spanning the years 1945 to 1955, a chronicle o...           R   \n",
       "2  Batman raises the stakes in his war on crime. ...       PG-13   \n",
       "3  Spanning the years 1945 to 1955, a chronicle o...           R   \n",
       "4  The defense and the prosecution have rested an...          NR   \n",
       "\n",
       "   Runtime (min)                           Genre  \\\n",
       "0          142.0                    Drama, Crime   \n",
       "1          175.0                    Drama, Crime   \n",
       "2          152.0  Drama, Action, Crime, Thriller   \n",
       "3          175.0                    Drama, Crime   \n",
       "4           97.0                           Drama   \n",
       "\n",
       "                                              Actors              Director  \\\n",
       "0  Morgan Freeman, Tim Robbins, Bob Gunton, Willi...        Frank Darabont   \n",
       "1  Marlon Brando, Al Pacino, James Caan, Robert D...  Francis Ford Coppola   \n",
       "2  Christian Bale, Heath Ledger, Aaron Eckhart, M...     Christopher Nolan   \n",
       "3  Marlon Brando, Al Pacino, James Caan, Robert D...  Francis Ford Coppola   \n",
       "4  Martin Balsam, John Fiedler, Lee J. Cobb, E.G....          Sidney Lumet   \n",
       "\n",
       "     Year  tmdbRating  rottenRating  \n",
       "0  1994.0       8.700           NaN  \n",
       "1  1972.0       8.686          97.0  \n",
       "2  2008.0       8.500          94.0  \n",
       "3  1972.0       8.686          97.0  \n",
       "4  1957.0       8.548         100.0  "
      ]
     },
     "execution_count": 12,
     "metadata": {},
     "output_type": "execute_result"
    }
   ],
   "source": [
    "def drop_missing_features(df: pd.DataFrame, missing_percentage: pd.Series, threshold: float = 75.0) -> pd.DataFrame:\n",
    "    # Find columns with missing data percentage greater than the threshold\n",
    "    cols_to_drop = missing_percentage[missing_percentage > threshold].index\n",
    "    # Drop those columns from the DataFrame\n",
    "    return df.drop(columns=cols_to_drop)\n",
    "\n",
    "# Apply the function to the dataframe `data` using the `missing_percentage` series\n",
    "raw_df = drop_missing_features(data, missing_percentage)\n",
    "\n",
    "# Display the first few rows of the resulting dataframe\n",
    "raw_df.head()\n"
   ]
  },
  {
   "cell_type": "markdown",
   "metadata": {},
   "source": [
    "##### After determining the percentage of missing data in the columns, we will now **divide them into two categories: numeric data type and non-numeric data type** for processing."
   ]
  },
  {
   "cell_type": "markdown",
   "metadata": {},
   "source": [
    "## **5. For each column with numeric data type, how are the values distributed?**"
   ]
  },
  {
   "cell_type": "markdown",
   "metadata": {},
   "source": [
    "For columns with numeric data types, we will calculate:\n",
    "- Percentage (from 0 to 100) of missing values\n",
    "- The min\n",
    "- The lower quartile\n",
    "- The median\n",
    "- The upper quartile\n",
    "- The max\n",
    "\n"
   ]
  },
  {
   "cell_type": "code",
   "execution_count": 13,
   "metadata": {},
   "outputs": [
    {
     "data": {
      "application/vnd.microsoft.datawrangler.viewer.v0+json": {
       "columns": [
        {
         "name": "index",
         "rawType": "object",
         "type": "string"
        },
        {
         "name": "imdbRating",
         "rawType": "float64",
         "type": "float"
        },
        {
         "name": "Runtime (min)",
         "rawType": "float64",
         "type": "float"
        },
        {
         "name": "Year",
         "rawType": "float64",
         "type": "float"
        },
        {
         "name": "tmdbRating",
         "rawType": "float64",
         "type": "float"
        },
        {
         "name": "rottenRating",
         "rawType": "float64",
         "type": "float"
        }
       ],
       "conversionMethod": "pd.DataFrame",
       "ref": "4c7b6526-ff8a-417a-9f6c-908ae551584b",
       "rows": [
        [
         "missing_ratio",
         "0.0",
         "16.8",
         "16.8",
         "16.8",
         "45.2"
        ],
        [
         "min",
         "8.0",
         "22.0",
         "1921.0",
         "7.9",
         "89.0"
        ],
        [
         "lower_quartile",
         "8.1",
         "109.0",
         "1964.8",
         "8.0",
         "94.0"
        ],
        [
         "median",
         "8.2",
         "127.5",
         "1995.0",
         "8.1",
         "96.0"
        ],
        [
         "upper_quartile",
         "8.4",
         "148.2",
         "2009.0",
         "8.3",
         "98.0"
        ],
        [
         "max",
         "9.3",
         "233.0",
         "2024.0",
         "8.7",
         "100.0"
        ]
       ],
       "shape": {
        "columns": 5,
        "rows": 6
       }
      },
      "text/html": [
       "<div>\n",
       "<style scoped>\n",
       "    .dataframe tbody tr th:only-of-type {\n",
       "        vertical-align: middle;\n",
       "    }\n",
       "\n",
       "    .dataframe tbody tr th {\n",
       "        vertical-align: top;\n",
       "    }\n",
       "\n",
       "    .dataframe thead th {\n",
       "        text-align: right;\n",
       "    }\n",
       "</style>\n",
       "<table border=\"1\" class=\"dataframe\">\n",
       "  <thead>\n",
       "    <tr style=\"text-align: right;\">\n",
       "      <th></th>\n",
       "      <th>imdbRating</th>\n",
       "      <th>Runtime (min)</th>\n",
       "      <th>Year</th>\n",
       "      <th>tmdbRating</th>\n",
       "      <th>rottenRating</th>\n",
       "    </tr>\n",
       "  </thead>\n",
       "  <tbody>\n",
       "    <tr>\n",
       "      <th>missing_ratio</th>\n",
       "      <td>0.0</td>\n",
       "      <td>16.8</td>\n",
       "      <td>16.8</td>\n",
       "      <td>16.8</td>\n",
       "      <td>45.2</td>\n",
       "    </tr>\n",
       "    <tr>\n",
       "      <th>min</th>\n",
       "      <td>8.0</td>\n",
       "      <td>22.0</td>\n",
       "      <td>1921.0</td>\n",
       "      <td>7.9</td>\n",
       "      <td>89.0</td>\n",
       "    </tr>\n",
       "    <tr>\n",
       "      <th>lower_quartile</th>\n",
       "      <td>8.1</td>\n",
       "      <td>109.0</td>\n",
       "      <td>1964.8</td>\n",
       "      <td>8.0</td>\n",
       "      <td>94.0</td>\n",
       "    </tr>\n",
       "    <tr>\n",
       "      <th>median</th>\n",
       "      <td>8.2</td>\n",
       "      <td>127.5</td>\n",
       "      <td>1995.0</td>\n",
       "      <td>8.1</td>\n",
       "      <td>96.0</td>\n",
       "    </tr>\n",
       "    <tr>\n",
       "      <th>upper_quartile</th>\n",
       "      <td>8.4</td>\n",
       "      <td>148.2</td>\n",
       "      <td>2009.0</td>\n",
       "      <td>8.3</td>\n",
       "      <td>98.0</td>\n",
       "    </tr>\n",
       "    <tr>\n",
       "      <th>max</th>\n",
       "      <td>9.3</td>\n",
       "      <td>233.0</td>\n",
       "      <td>2024.0</td>\n",
       "      <td>8.7</td>\n",
       "      <td>100.0</td>\n",
       "    </tr>\n",
       "  </tbody>\n",
       "</table>\n",
       "</div>"
      ],
      "text/plain": [
       "                imdbRating  Runtime (min)    Year  tmdbRating  rottenRating\n",
       "missing_ratio          0.0           16.8    16.8        16.8          45.2\n",
       "min                    8.0           22.0  1921.0         7.9          89.0\n",
       "lower_quartile         8.1          109.0  1964.8         8.0          94.0\n",
       "median                 8.2          127.5  1995.0         8.1          96.0\n",
       "upper_quartile         8.4          148.2  2009.0         8.3          98.0\n",
       "max                    9.3          233.0  2024.0         8.7         100.0"
      ]
     },
     "execution_count": 13,
     "metadata": {},
     "output_type": "execute_result"
    }
   ],
   "source": [
    "def missing_ratio(column):\n",
    "    return column.isna().mean() * 100\n",
    "\n",
    "def lower_quartile(column):\n",
    "    return column.quantile(0.25)\n",
    "\n",
    "def median(column):\n",
    "    return column.median()\n",
    "\n",
    "def upper_quartile(column):\n",
    "    return column.quantile(0.75)\n",
    "\n",
    "# Select numerical columns (float64, int64) from the DataFrame\n",
    "numeric_cols = data.select_dtypes(include=['float64', 'int64']).columns\n",
    "\n",
    "# Dictionary to store the statistics\n",
    "statistics = {\n",
    "    \"missing_ratio\": [],\n",
    "    \"min\": [],\n",
    "    \"lower_quartile\": [],\n",
    "    \"median\": [],\n",
    "    \"upper_quartile\": [],\n",
    "    \"max\": []\n",
    "}\n",
    "\n",
    "# Calculate statistics for each numerical column\n",
    "for col in numeric_cols:\n",
    "    missing_ratio_val = missing_ratio(data[col])\n",
    "    min_val = data[col].min()\n",
    "    lower_quartile_val = lower_quartile(data[col])\n",
    "    median_val = median(data[col])\n",
    "    upper_quartile_val = upper_quartile(data[col])\n",
    "    max_val = data[col].max()\n",
    "    \n",
    "    statistics[\"missing_ratio\"].append(missing_ratio_val)\n",
    "    statistics[\"min\"].append(min_val)\n",
    "    statistics[\"lower_quartile\"].append(lower_quartile_val)\n",
    "    statistics[\"median\"].append(median_val)\n",
    "    statistics[\"upper_quartile\"].append(upper_quartile_val)\n",
    "    statistics[\"max\"].append(max_val)\n",
    "\n",
    "# Create a DataFrame from the statistics dictionary\n",
    "num_col_info_df = pd.DataFrame(statistics, index=numeric_cols).T.round(1)\n",
    "num_col_info_df\n"
   ]
  },
  {
   "cell_type": "markdown",
   "metadata": {},
   "source": [
    "## **6. For each column with a non-numeric data type, how are the values distributed?**"
   ]
  },
  {
   "cell_type": "code",
   "execution_count": 14,
   "metadata": {},
   "outputs": [
    {
     "name": "stdout",
     "output_type": "stream",
     "text": [
      "               Title  Poster_Link  Overview  Certificate  Genre  Actors  \\\n",
      "missing_ratio    0.0         16.8      16.8         20.4   16.8    16.8   \n",
      "num_values     250.0        201.0     201.0          6.0  116.0   200.0   \n",
      "\n",
      "               Director  \n",
      "missing_ratio      16.8  \n",
      "num_values        127.0  \n"
     ]
    }
   ],
   "source": [
    "non_numeric_cols = raw_df.select_dtypes(exclude=['float64', 'int64']).columns\n",
    "cat_statistics = {\n",
    "    \"missing_ratio\": [],\n",
    "    \"num_values\": [],  #Numbers of unique values\n",
    "}\n",
    "for col in non_numeric_cols:\n",
    "    \n",
    "    missing_ratio = raw_df[col].isna().mean() * 100\n",
    "\n",
    "    num_values = raw_df[col].nunique()\n",
    "\n",
    "    cat_statistics[\"missing_ratio\"].append(round(missing_ratio, 1))\n",
    "    cat_statistics[\"num_values\"].append(num_values)\n",
    "\n",
    "    \n",
    "cat_col_info_df = pd.DataFrame(cat_statistics, index=non_numeric_cols).T\n",
    "print (cat_col_info_df)"
   ]
  },
  {
   "cell_type": "markdown",
   "metadata": {},
   "source": [
    "## 7 Điền vào các ô bị thiếu"
   ]
  },
  {
   "cell_type": "code",
   "execution_count": 17,
   "metadata": {},
   "outputs": [
    {
     "name": "stdout",
     "output_type": "stream",
     "text": [
      "✅ Filled: Star Wars: Episode IV - A New Hope\n",
      "✅ Filled: WALL·E\n",
      "✅ Filled: 12th Fail\n",
      "✅ Filled: Capernaum\n",
      "✅ Filled: The Chaos Class Failed the Class\n",
      "✅ Filled: The Apartment\n",
      "✅ Filled: North by Northwest\n",
      "✅ Filled: Die Hard\n",
      "✅ Filled: Indiana Jones and the Last Crusade\n",
      "✅ Filled: Snatch\n",
      "✅ Filled: L.A. Confidential\n",
      "✅ Filled: Batman Begins\n",
      "✅ Filled: The Kid\n",
      "✅ Filled: Pan's Labyrinth\n",
      "✅ Filled: A Beautiful Mind\n",
      "✅ Filled: Finding Nemo\n",
      "✅ Filled: Monty Python and the Holy Grail\n",
      "✅ Filled: The Bridge on the River Kwai\n",
      "✅ Filled: Fargo\n",
      "✅ Filled: Warrior\n",
      "✅ Filled: Mad Max: Fury Road\n",
      "✅ Filled: Children of Heaven\n",
      "✅ Filled: Memories of Murder\n",
      "✅ Filled: Ratatouille\n",
      "✅ Filled: Monsters, Inc.\n",
      "✅ Filled: Jaws\n",
      "✅ Filled: Wild Strawberries\n",
      "✅ Filled: Logan\n",
      "✅ Filled: Rocky\n",
      "✅ Filled: Tokyo Story\n",
      "✅ Filled: Spotlight\n",
      "✅ Filled: The Big Lebowski\n",
      "✅ Filled: The Terminator\n",
      "✅ Filled: Maharaja\n",
      "✅ Filled: Pirates of the Caribbean: The Curse of the Black Pearl\n",
      "✅ Filled: Jai Bhim\n",
      "✅ Filled: Hotel Rwanda\n",
      "✅ Filled: Platoon\n",
      "✅ Filled: Before Sunset\n",
      "✅ Filled: The Best Years of Our Lives\n",
      "✅ Filled: The Exorcist\n",
      "✅ Filled: The Sound of Music\n",
      "✅ Filled: The Incredibles\n",
      "✅ Filled: My Father and My Son\n",
      "✅ Filled: Network\n",
      "✅ Filled: Sinners\n",
      "✅ Filled: To Be or Not to Be\n",
      "✅ Filled: The Grapes of Wrath\n",
      "✅ Filled: Into the Wild\n",
      "✅ Filled: Groundhog Day\n",
      "✅ Filled: Amores Perros\n",
      "✅ Done! Output saved to: movie.csv\n"
     ]
    }
   ],
   "source": [
    "import requests\n",
    "import csv\n",
    "import time\n",
    "\n",
    "API_KEY = '738f8682fc5143163b145d03a2016b0b'\n",
    "BASE_URL = 'https://api.themoviedb.org/3'\n",
    "SEARCH_URL = f'{BASE_URL}/search/movie'\n",
    "\n",
    "def search_movie_by_title(title):\n",
    "    params = {\n",
    "        'api_key': API_KEY,\n",
    "        'query': title,\n",
    "        'language': 'en-US'\n",
    "    }\n",
    "    response = requests.get(SEARCH_URL, params=params)\n",
    "    if response.status_code == 200:\n",
    "        results = response.json().get('results', [])\n",
    "        return results[0] if results else None\n",
    "    return None\n",
    "\n",
    "def get_movie_details(movie_id):\n",
    "    url = f'{BASE_URL}/movie/{movie_id}?language=en-US&api_key={API_KEY}'\n",
    "    return requests.get(url).json()\n",
    "\n",
    "def get_movie_credits(movie_id):\n",
    "    url = f'{BASE_URL}/movie/{movie_id}/credits?api_key={API_KEY}'\n",
    "    return requests.get(url).json()\n",
    "\n",
    "def get_movie_certification(movie_id):\n",
    "    url = f'{BASE_URL}/movie/{movie_id}/release_dates?api_key={API_KEY}'\n",
    "    response = requests.get(url)\n",
    "    if response.status_code == 200:\n",
    "        results = response.json().get(\"results\", [])\n",
    "        for country in results:\n",
    "            if country.get(\"iso_3166_1\") == \"US\":\n",
    "                for release in country.get(\"release_dates\", []):\n",
    "                    cert = release.get(\"certification\")\n",
    "                    if cert:\n",
    "                        return cert\n",
    "    return ''\n",
    "\n",
    "def fill_missing_fields(row):\n",
    "    title = row['Title']\n",
    "    movie = search_movie_by_title(title)\n",
    "    if not movie:\n",
    "        print(f\"❌ Movie not found: {title}\")\n",
    "        return row\n",
    "\n",
    "    movie_id = movie['id']\n",
    "    details = get_movie_details(movie_id)\n",
    "    credits = get_movie_credits(movie_id)\n",
    "    cert = get_movie_certification(movie_id)\n",
    "\n",
    "    # Fill in missing fields only\n",
    "    if not row.get('Poster_Link'):\n",
    "        poster_path = details.get('poster_path', '')\n",
    "        row['Poster_Link'] = f'https://image.tmdb.org/t/p/w500{poster_path}' if poster_path else ''\n",
    "\n",
    "    if not row.get('Overview'):\n",
    "        row['Overview'] = details.get('overview', '')\n",
    "\n",
    "    if not row.get('Certificate'):\n",
    "        row['Certificate'] = cert\n",
    "\n",
    "    if not row.get('Runtime (min)'):\n",
    "        row['Runtime (min)'] = details.get('runtime', 0)\n",
    "\n",
    "    if not row.get('Genre'):\n",
    "        genres = [genre['name'] for genre in details.get('genres', [])]\n",
    "        row['Genre'] = ', '.join(genres)\n",
    "\n",
    "    if not row.get('Actors'):\n",
    "        actors = [cast['name'] for cast in credits.get('cast', [])[:5]]\n",
    "        row['Actors'] = ', '.join(actors)\n",
    "\n",
    "    if not row.get('Director'):\n",
    "        directors = [crew['name'] for crew in credits.get('crew', []) if crew['job'] == 'Director']\n",
    "        row['Director'] = ', '.join(directors)\n",
    "\n",
    "    if not row.get('Year'):\n",
    "        row['Year'] = details.get('release_date', '')[:4]\n",
    "\n",
    "    if not row.get('tmdbRating'):\n",
    "        row['tmdbRating'] = details.get('vote_average', 0)\n",
    "\n",
    "    # Keep imdbRating and rottenRating as is (already in input)\n",
    "    row['imdbRating'] = row.get('imdbRating', '')\n",
    "    row['rottenRating'] = row.get('rottenRating', '')\n",
    "\n",
    "    time.sleep(0.25)\n",
    "    print(f\"✅ Filled: {title}\")\n",
    "    return row\n",
    "\n",
    "def main():\n",
    "    input_file = 'merged_3files.csv'\n",
    "    output_file = 'movie.csv'\n",
    "\n",
    "    with open(input_file, mode='r', encoding='utf-8') as file:\n",
    "        reader = csv.DictReader(file)\n",
    "        rows = list(reader)\n",
    "\n",
    "    filled_rows = []\n",
    "    for row in rows:\n",
    "        # Check if any critical field is missing\n",
    "        needs_fill = any(not row.get(field) for field in [\n",
    "            'Poster_Link', 'Overview', 'Certificate', 'Runtime (min)',\n",
    "            'Genre', 'Actors', 'Director', 'Year', 'tmdbRating'\n",
    "        ])\n",
    "        if needs_fill:\n",
    "            row = fill_missing_fields(row)\n",
    "        filled_rows.append(row)\n",
    "\n",
    "    # Define column order\n",
    "    fieldnames = [\n",
    "        'Poster_Link', 'Title', 'Certificate', 'Overview',\n",
    "        'Runtime (min)', 'Genre', 'Actors', 'Director',\n",
    "        'Year', 'imdbRating', 'rottenRating', 'tmdbRating'\n",
    "    ]\n",
    "\n",
    "    with open(output_file, mode='w', encoding='utf-8', newline='') as file:\n",
    "        writer = csv.DictWriter(file, fieldnames=fieldnames)\n",
    "        writer.writeheader()\n",
    "        for row in filled_rows:\n",
    "            writer.writerow({field: row.get(field, '') for field in fieldnames})\n",
    "\n",
    "    print(\"✅ Done! Output saved to:\", output_file)\n",
    "\n",
    "if __name__ == '__main__':\n",
    "    main()\n"
   ]
  },
  {
   "cell_type": "markdown",
   "metadata": {},
   "source": [
    "### Check again after filled null values"
   ]
  },
  {
   "cell_type": "code",
   "execution_count": 18,
   "metadata": {},
   "outputs": [
    {
     "name": "stdout",
     "output_type": "stream",
     "text": [
      "                                         Poster_Link  \\\n",
      "0  https://image.tmdb.org/t/p/w500/9cqNxx0GxF0bfl...   \n",
      "1  https://image.tmdb.org/t/p/w500/3bhkrj58Vtu7en...   \n",
      "2  https://image.tmdb.org/t/p/w500/qJ2tW6WMUDux91...   \n",
      "3  https://image.tmdb.org/t/p/w500/3bhkrj58Vtu7en...   \n",
      "4  https://image.tmdb.org/t/p/w500/ow3wq89wM8qd5X...   \n",
      "\n",
      "                      Title Certificate  \\\n",
      "0  The Shawshank Redemption           R   \n",
      "1             The Godfather           R   \n",
      "2           The Dark Knight       PG-13   \n",
      "3     The Godfather Part II           R   \n",
      "4              12 Angry Men          NR   \n",
      "\n",
      "                                            Overview  Runtime (min)  \\\n",
      "0  Imprisoned in the 1940s for the double murder ...          142.0   \n",
      "1  Spanning the years 1945 to 1955, a chronicle o...          175.0   \n",
      "2  Batman raises the stakes in his war on crime. ...          152.0   \n",
      "3  Spanning the years 1945 to 1955, a chronicle o...          175.0   \n",
      "4  The defense and the prosecution have rested an...           97.0   \n",
      "\n",
      "                            Genre  \\\n",
      "0                    Drama, Crime   \n",
      "1                    Drama, Crime   \n",
      "2  Drama, Action, Crime, Thriller   \n",
      "3                    Drama, Crime   \n",
      "4                           Drama   \n",
      "\n",
      "                                              Actors              Director  \\\n",
      "0  Morgan Freeman, Tim Robbins, Bob Gunton, Willi...        Frank Darabont   \n",
      "1  Marlon Brando, Al Pacino, James Caan, Robert D...  Francis Ford Coppola   \n",
      "2  Christian Bale, Heath Ledger, Aaron Eckhart, M...     Christopher Nolan   \n",
      "3  Marlon Brando, Al Pacino, James Caan, Robert D...  Francis Ford Coppola   \n",
      "4  Martin Balsam, John Fiedler, Lee J. Cobb, E.G....          Sidney Lumet   \n",
      "\n",
      "     Year  imdbRating  rottenRating  tmdbRating  \n",
      "0  1994.0         9.3           NaN       8.700  \n",
      "1  1972.0         9.2          97.0       8.686  \n",
      "2  2008.0         9.0          94.0       8.500  \n",
      "3  1972.0         9.0          97.0       8.686  \n",
      "4  1957.0         9.0         100.0       8.548  \n",
      "✅ Your data has no duplicated rows.\n"
     ]
    }
   ],
   "source": [
    "data_new = pd.read_csv('movie.csv')\n",
    "print(data_new.head())\n",
    "\n",
    "# Check if data have duplicate rows\n",
    "num_duplicated_rows = data_new.duplicated().sum()\n",
    "if num_duplicated_rows > 0:\n",
    "    print(f\"Found {num_duplicated_rows} duplicated rows. Removing duplicates...\")\n",
    "    data_new = data_new.drop_duplicates()\n",
    "    print(\"✅ Duplicates removed.\")\n",
    "else:\n",
    "    print(\"✅ Your data has no duplicated rows.\")\n",
    "    "
   ]
  }
 ],
 "metadata": {
  "kernelspec": {
   "display_name": "Python 3",
   "language": "python",
   "name": "python3"
  },
  "language_info": {
   "codemirror_mode": {
    "name": "ipython",
    "version": 3
   },
   "file_extension": ".py",
   "mimetype": "text/x-python",
   "name": "python",
   "nbconvert_exporter": "python",
   "pygments_lexer": "ipython3",
   "version": "3.13.2"
  }
 },
 "nbformat": 4,
 "nbformat_minor": 2
}
