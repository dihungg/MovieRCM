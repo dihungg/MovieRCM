{
 "cells": [
  {
   "cell_type": "markdown",
   "metadata": {},
   "source": [
    "# **PART 2. DATA PREPROCESSING**"
   ]
  },
  {
   "cell_type": "markdown",
   "metadata": {},
   "source": [
    "## **1. Overview of preprocessing and data exploration**\n",
    "- Check the initial data.\n",
    "- Clean the initial data.\n",
    "- Merge the files together.\n",
    "- Process the data after merging.\n",
    "- Print out the file movie.csv\n"
   ]
  },
  {
   "cell_type": "markdown",
   "metadata": {},
   "source": [
    "## **2. Read the original obtained data file**\n"
   ]
  },
  {
   "cell_type": "markdown",
   "metadata": {},
   "source": [
    "### Import libraries"
   ]
  },
  {
   "cell_type": "code",
   "execution_count": 1,
   "metadata": {},
   "outputs": [],
   "source": [
    "#import library\n",
    "import requests\n",
    "import numpy as np\n",
    "import pandas as pd"
   ]
  },
  {
   "cell_type": "code",
   "execution_count": 2,
   "metadata": {},
   "outputs": [],
   "source": [
    "#Read data\n",
    "IMDB = pd.read_csv('imdb.csv')\n",
    "TMDB = pd.read_csv('TMDB.csv')\n",
    "ROTTEN = pd.read_csv('rotten.csv')"
   ]
  },
  {
   "cell_type": "code",
   "execution_count": 3,
   "metadata": {},
   "outputs": [
    {
     "name": "stdout",
     "output_type": "stream",
     "text": [
      "                      Title  imdbRating\n",
      "0  The Shawshank Redemption         9.3\n",
      "1             The Godfather         9.2\n",
      "2           The Dark Knight         9.0\n",
      "3     The Godfather Part II         9.0\n",
      "4              12 Angry Men         9.0\n"
     ]
    }
   ],
   "source": [
    "print(IMDB.head())"
   ]
  },
  {
   "cell_type": "code",
   "execution_count": 4,
   "metadata": {},
   "outputs": [
    {
     "name": "stdout",
     "output_type": "stream",
     "text": [
      "                                         Poster_Link  \\\n",
      "0  https://image.tmdb.org/t/p/w500/9cqNxx0GxF0bfl...   \n",
      "1  https://image.tmdb.org/t/p/w500/3bhkrj58Vtu7en...   \n",
      "2  https://image.tmdb.org/t/p/w500/hek3koDUyRQk7F...   \n",
      "3  https://image.tmdb.org/t/p/w500/sF1U4EUQS8YHUY...   \n",
      "4  https://image.tmdb.org/t/p/w500/ow3wq89wM8qd5X...   \n",
      "\n",
      "                      Title  \\\n",
      "0  The Shawshank Redemption   \n",
      "1             The Godfather   \n",
      "2     The Godfather Part II   \n",
      "3          Schindler's List   \n",
      "4              12 Angry Men   \n",
      "\n",
      "                                            Overview Certificate  \\\n",
      "0  Imprisoned in the 1940s for the double murder ...           R   \n",
      "1  Spanning the years 1945 to 1955, a chronicle o...           R   \n",
      "2  In the continuing saga of the Corleone crime f...           R   \n",
      "3  The true story of how businessman Oskar Schind...           R   \n",
      "4  The defense and the prosecution have rested an...          NR   \n",
      "\n",
      "   Runtime (min)                Genre  \\\n",
      "0            142         Drama, Crime   \n",
      "1            175         Drama, Crime   \n",
      "2            202         Drama, Crime   \n",
      "3            195  Drama, History, War   \n",
      "4             97                Drama   \n",
      "\n",
      "                                              Actors              Director  \\\n",
      "0  Morgan Freeman, Tim Robbins, Bob Gunton, Willi...        Frank Darabont   \n",
      "1  Marlon Brando, Al Pacino, James Caan, Robert D...  Francis Ford Coppola   \n",
      "2  Al Pacino, Robert Duvall, Diane Keaton, Robert...  Francis Ford Coppola   \n",
      "3  Liam Neeson, Ben Kingsley, Ralph Fiennes, Caro...      Steven Spielberg   \n",
      "4  Martin Balsam, John Fiedler, Lee J. Cobb, E.G....          Sidney Lumet   \n",
      "\n",
      "   Year  tmdbRating  \n",
      "0  1994       8.700  \n",
      "1  1972       8.686  \n",
      "2  1974       8.570  \n",
      "3  1993       8.564  \n",
      "4  1957       8.548  \n"
     ]
    }
   ],
   "source": [
    "print (TMDB.head())"
   ]
  },
  {
   "cell_type": "code",
   "execution_count": 5,
   "metadata": {},
   "outputs": [
    {
     "name": "stdout",
     "output_type": "stream",
     "text": [
      "               Title  rottenRating\n",
      "0      The Godfather            97\n",
      "1         Casablanca            99\n",
      "2  L.A. Confidential            99\n",
      "3      Seven Samurai           100\n",
      "4           Parasite            99\n"
     ]
    }
   ],
   "source": [
    "print (ROTTEN.head())"
   ]
  },
  {
   "cell_type": "code",
   "execution_count": 6,
   "metadata": {},
   "outputs": [],
   "source": [
    "# # Loại bỏ các dấu ngoặc trong cột imdbRating của của DataFrame IMDB\n",
    "# IMDB['imdbRating'] = IMDB['imdbRating'].str.replace('[(),]', '', regex=True).astype(float)\n",
    "# # Chuyển đổi kiểu dữ liệu của cột imdbRating thành float    \n",
    "# IMDB['imdbRating'] = IMDB['imdbRating'].astype(float)\n",
    "# # Lưu lại vào file CSV \n",
    "# IMDB.to_csv('imdb.csv', index=False)"
   ]
  },
  {
   "cell_type": "code",
   "execution_count": 7,
   "metadata": {},
   "outputs": [
    {
     "name": "stdout",
     "output_type": "stream",
     "text": [
      "                      Title  imdbRating\n",
      "0  The Shawshank Redemption         9.3\n",
      "1             The Godfather         9.2\n",
      "2           The Dark Knight         9.0\n",
      "3     The Godfather Part II         9.0\n",
      "4              12 Angry Men         9.0\n"
     ]
    }
   ],
   "source": [
    "print (IMDB.head())"
   ]
  },
  {
   "cell_type": "markdown",
   "metadata": {},
   "source": [
    "## **3.Merge the initial files together.**"
   ]
  },
  {
   "cell_type": "code",
   "execution_count": 8,
   "metadata": {},
   "outputs": [
    {
     "name": "stdout",
     "output_type": "stream",
     "text": [
      "                                         Poster_Link  \\\n",
      "0  https://image.tmdb.org/t/p/w500/9cqNxx0GxF0bfl...   \n",
      "1  https://image.tmdb.org/t/p/w500/3bhkrj58Vtu7en...   \n",
      "2  https://image.tmdb.org/t/p/w500/hek3koDUyRQk7F...   \n",
      "3  https://image.tmdb.org/t/p/w500/sF1U4EUQS8YHUY...   \n",
      "4  https://image.tmdb.org/t/p/w500/ow3wq89wM8qd5X...   \n",
      "\n",
      "                      Title  \\\n",
      "0  The Shawshank Redemption   \n",
      "1             The Godfather   \n",
      "2     The Godfather Part II   \n",
      "3          Schindler's List   \n",
      "4              12 Angry Men   \n",
      "\n",
      "                                            Overview Certificate  \\\n",
      "0  Imprisoned in the 1940s for the double murder ...           R   \n",
      "1  Spanning the years 1945 to 1955, a chronicle o...           R   \n",
      "2  In the continuing saga of the Corleone crime f...           R   \n",
      "3  The true story of how businessman Oskar Schind...           R   \n",
      "4  The defense and the prosecution have rested an...          NR   \n",
      "\n",
      "   Runtime (min)                Genre  \\\n",
      "0            142         Drama, Crime   \n",
      "1            175         Drama, Crime   \n",
      "2            202         Drama, Crime   \n",
      "3            195  Drama, History, War   \n",
      "4             97                Drama   \n",
      "\n",
      "                                              Actors              Director  \\\n",
      "0  Morgan Freeman, Tim Robbins, Bob Gunton, Willi...        Frank Darabont   \n",
      "1  Marlon Brando, Al Pacino, James Caan, Robert D...  Francis Ford Coppola   \n",
      "2  Al Pacino, Robert Duvall, Diane Keaton, Robert...  Francis Ford Coppola   \n",
      "3  Liam Neeson, Ben Kingsley, Ralph Fiennes, Caro...      Steven Spielberg   \n",
      "4  Martin Balsam, John Fiedler, Lee J. Cobb, E.G....          Sidney Lumet   \n",
      "\n",
      "   Year  tmdbRating  imdbRating  rottenRating  \n",
      "0  1994       8.700         9.3           NaN  \n",
      "1  1972       8.686         9.2          97.0  \n",
      "2  1974       8.570         9.2          97.0  \n",
      "3  1993       8.564         9.0          98.0  \n",
      "4  1957       8.548         9.0         100.0  \n"
     ]
    }
   ],
   "source": [
    "import pandas as pd\n",
    "from fuzzywuzzy import fuzz, process\n",
    "\n",
    "# Đọc dữ liệu\n",
    "df_a = pd.read_csv('TMDB.csv')  # A: Title + 8 cột\n",
    "df_b = pd.read_csv('imdb.csv')  # B: Title + 1 cột dữ liệu\n",
    "df_c = pd.read_csv('rotten.csv')  # C: Title + 1 cột dữ liệu\n",
    "\n",
    "# Lấy danh sách tiêu đề từ B và C\n",
    "titles_b = df_b['Title'].tolist()\n",
    "titles_c = df_c['Title'].tolist()\n",
    "\n",
    "# Hàm fuzzy match\n",
    "def match_title(title, choices, threshold=90):\n",
    "    match, score = process.extractOne(title, choices, scorer=fuzz.token_set_ratio)\n",
    "    return match if score >= threshold else None\n",
    "\n",
    "# Ghép tiêu đề tương ứng từ B và C (fuzzy matched)\n",
    "df_a['Matched_B'] = df_a['Title'].apply(lambda t: match_title(t, titles_b))\n",
    "df_a['Matched_C'] = df_a['Title'].apply(lambda t: match_title(t, titles_c))\n",
    "\n",
    "# Lấy tên cột dữ liệu duy nhất ngoài Title trong B và C\n",
    "col_b = [col for col in df_b.columns if col != 'Title'][0]\n",
    "col_c = [col for col in df_c.columns if col != 'Title'][0]\n",
    "\n",
    "# Ghép cột từ B\n",
    "merged = pd.merge(\n",
    "    df_a, df_b[['Title', col_b]],\n",
    "    left_on='Matched_B', right_on='Title',\n",
    "    how='left'\n",
    ")\n",
    "\n",
    "\n",
    "\n",
    "# Ghép cột từ C\n",
    "merged = pd.merge(\n",
    "    merged, df_c[['Title', col_c]],\n",
    "    left_on='Matched_C', right_on='Title',\n",
    "    how='left'\n",
    ")\n",
    "\n",
    "\n",
    "# Xóa các cột phụ không cần giữ\n",
    "merged.drop(columns=['Matched_B', 'Matched_C', 'Title_y', 'Title'], inplace=True)\n",
    "\n",
    "# Đặt lại tên cột Title gốc (Title_x)\n",
    "merged.rename(columns={'Title_x': 'Title'}, inplace=True)\n",
    "\n",
    "# Xuất kết quả\n",
    "merged.to_csv('merged_result.csv', index=False)\n",
    "print(merged.head())\n",
    "\n",
    "data = merged"
   ]
  },
  {
   "cell_type": "markdown",
   "metadata": {},
   "source": [
    "## **4.Process the data after merging.**"
   ]
  },
  {
   "cell_type": "markdown",
   "metadata": {},
   "source": [
    "## Does the raw data have duplicate rows?"
   ]
  },
  {
   "cell_type": "code",
   "execution_count": 9,
   "metadata": {},
   "outputs": [
    {
     "name": "stdout",
     "output_type": "stream",
     "text": [
      "✅ Your data has no duplicated rows.\n"
     ]
    }
   ],
   "source": [
    "# Check if data have duplicate rows\n",
    "num_duplicated_rows = data.duplicated().sum()\n",
    "if num_duplicated_rows > 0:\n",
    "    print(f\"Found {num_duplicated_rows} duplicated rows. Removing duplicates...\")\n",
    "    data = data.drop_duplicates()\n",
    "    print(\"✅ Duplicates removed.\")\n",
    "else:\n",
    "    print(\"✅ Your data has no duplicated rows.\")"
   ]
  },
  {
   "cell_type": "markdown",
   "metadata": {},
   "source": [
    "## What data type does each column currently have? Are there any columns whose data types are not suitable for further processing?"
   ]
  },
  {
   "cell_type": "code",
   "execution_count": 10,
   "metadata": {},
   "outputs": [
    {
     "name": "stdout",
     "output_type": "stream",
     "text": [
      "Data types of each column:\n",
      "Poster_Link       object\n",
      "Title             object\n",
      "Overview          object\n",
      "Certificate       object\n",
      "Runtime (min)      int64\n",
      "Genre             object\n",
      "Actors            object\n",
      "Director          object\n",
      "Year               int64\n",
      "tmdbRating       float64\n",
      "imdbRating       float64\n",
      "rottenRating     float64\n",
      "dtype: object\n"
     ]
    }
   ],
   "source": [
    "#Type of each column\n",
    "dtypes = data.dtypes\n",
    "print(\"Data types of each column:\")\n",
    "print(dtypes)"
   ]
  },
  {
   "cell_type": "markdown",
   "metadata": {},
   "source": [
    "## Check the percentage of missing data in the columns."
   ]
  },
  {
   "cell_type": "code",
   "execution_count": 11,
   "metadata": {},
   "outputs": [
    {
     "name": "stdout",
     "output_type": "stream",
     "text": [
      "Missing ratio\n",
      "Poster_Link       0.0\n",
      "Title             0.0\n",
      "Overview          0.0\n",
      "Certificate      17.8\n",
      "Runtime (min)     0.0\n",
      "Genre             0.0\n",
      "Actors            0.8\n",
      "Director          0.0\n",
      "Year              0.0\n",
      "tmdbRating        0.0\n",
      "imdbRating       57.4\n",
      "rottenRating     69.0\n",
      "dtype: float64\n"
     ]
    }
   ],
   "source": [
    "#Percentage of missing data\n",
    "missing_percentage = data.isnull().mean() * 100\n",
    "print(\"Missing ratio\")\n",
    "print(missing_percentage)"
   ]
  },
  {
   "cell_type": "markdown",
   "metadata": {},
   "source": [
    "- After identifying the basic statistical numbers that describe data, we further need to determine the features that have a large number of missing values. Such features are not useful for the analysis stage and must be removed from the dataset.\n",
    "\n",
    "- Depending on goals, the threshold for \"large\" can be defined. Usually, if the percentage of missing values is greater than 75%, the column is dropped from the dataframe and an updated dataframe is returned."
   ]
  },
  {
   "cell_type": "code",
   "execution_count": 12,
   "metadata": {},
   "outputs": [
    {
     "data": {
      "application/vnd.microsoft.datawrangler.viewer.v0+json": {
       "columns": [
        {
         "name": "index",
         "rawType": "int64",
         "type": "integer"
        },
        {
         "name": "Poster_Link",
         "rawType": "object",
         "type": "string"
        },
        {
         "name": "Title",
         "rawType": "object",
         "type": "string"
        },
        {
         "name": "Overview",
         "rawType": "object",
         "type": "string"
        },
        {
         "name": "Certificate",
         "rawType": "object",
         "type": "string"
        },
        {
         "name": "Runtime (min)",
         "rawType": "int64",
         "type": "integer"
        },
        {
         "name": "Genre",
         "rawType": "object",
         "type": "string"
        },
        {
         "name": "Actors",
         "rawType": "object",
         "type": "string"
        },
        {
         "name": "Director",
         "rawType": "object",
         "type": "string"
        },
        {
         "name": "Year",
         "rawType": "int64",
         "type": "integer"
        },
        {
         "name": "tmdbRating",
         "rawType": "float64",
         "type": "float"
        },
        {
         "name": "imdbRating",
         "rawType": "float64",
         "type": "float"
        },
        {
         "name": "rottenRating",
         "rawType": "float64",
         "type": "float"
        }
       ],
       "conversionMethod": "pd.DataFrame",
       "ref": "a739a665-a15a-4f6f-8600-2de3a3f1484b",
       "rows": [
        [
         "0",
         "https://image.tmdb.org/t/p/w500/9cqNxx0GxF0bflZmeSMuL5tnGzr.jpg",
         "The Shawshank Redemption",
         "Imprisoned in the 1940s for the double murder of his wife and her lover, upstanding banker Andy Dufresne begins a new life at the Shawshank prison, where he puts his accounting skills to work for an amoral warden. During his long stretch in prison, Dufresne comes to be admired by the other inmates -- including an older prisoner named Red -- for his integrity and unquenchable sense of hope.",
         "R",
         "142",
         "Drama, Crime",
         "Morgan Freeman, Tim Robbins, Bob Gunton, William Sadler, Clancy Brown",
         "Frank Darabont",
         "1994",
         "8.7",
         "9.3",
         null
        ],
        [
         "1",
         "https://image.tmdb.org/t/p/w500/3bhkrj58Vtu7enYsRolD1fZdja1.jpg",
         "The Godfather",
         "Spanning the years 1945 to 1955, a chronicle of the fictional Italian-American Corleone crime family. When organized crime family patriarch, Vito Corleone barely survives an attempt on his life, his youngest son, Michael steps in to take care of the would-be killers, launching a campaign of bloody revenge.",
         "R",
         "175",
         "Drama, Crime",
         "Marlon Brando, Al Pacino, James Caan, Robert Duvall, Richard S. Castellano",
         "Francis Ford Coppola",
         "1972",
         "8.686",
         "9.2",
         "97.0"
        ],
        [
         "2",
         "https://image.tmdb.org/t/p/w500/hek3koDUyRQk7FIhPXsa6mT2Zc3.jpg",
         "The Godfather Part II",
         "In the continuing saga of the Corleone crime family, a young Vito Corleone grows up in Sicily and in 1910s New York. In the 1950s, Michael Corleone attempts to expand the family business into Las Vegas, Hollywood and Cuba.",
         "R",
         "202",
         "Drama, Crime",
         "Al Pacino, Robert Duvall, Diane Keaton, Robert De Niro, John Cazale",
         "Francis Ford Coppola",
         "1974",
         "8.57",
         "9.2",
         "97.0"
        ],
        [
         "3",
         "https://image.tmdb.org/t/p/w500/sF1U4EUQS8YHUYjNl3pMGNIQyr0.jpg",
         "Schindler's List",
         "The true story of how businessman Oskar Schindler saved over a thousand Jewish lives from the Nazis while they worked as slaves in his factory during World War II.",
         "R",
         "195",
         "Drama, History, War",
         "Liam Neeson, Ben Kingsley, Ralph Fiennes, Caroline Goodall, Jonathan Sagall",
         "Steven Spielberg",
         "1993",
         "8.564",
         "9.0",
         "98.0"
        ],
        [
         "4",
         "https://image.tmdb.org/t/p/w500/ow3wq89wM8qd5X7hWKxiRfsFf9C.jpg",
         "12 Angry Men",
         "The defense and the prosecution have rested and the jury is filing into the jury room to decide if a young Spanish-American is guilty or innocent of murdering his father. What begins as an open and shut case soon becomes a mini-drama of each of the jurors' prejudices and preconceptions about the trial, the accused, and each other.",
         "NR",
         "97",
         "Drama",
         "Martin Balsam, John Fiedler, Lee J. Cobb, E.G. Marshall, Jack Klugman",
         "Sidney Lumet",
         "1957",
         "8.548",
         "9.0",
         "100.0"
        ]
       ],
       "shape": {
        "columns": 12,
        "rows": 5
       }
      },
      "text/html": [
       "<div>\n",
       "<style scoped>\n",
       "    .dataframe tbody tr th:only-of-type {\n",
       "        vertical-align: middle;\n",
       "    }\n",
       "\n",
       "    .dataframe tbody tr th {\n",
       "        vertical-align: top;\n",
       "    }\n",
       "\n",
       "    .dataframe thead th {\n",
       "        text-align: right;\n",
       "    }\n",
       "</style>\n",
       "<table border=\"1\" class=\"dataframe\">\n",
       "  <thead>\n",
       "    <tr style=\"text-align: right;\">\n",
       "      <th></th>\n",
       "      <th>Poster_Link</th>\n",
       "      <th>Title</th>\n",
       "      <th>Overview</th>\n",
       "      <th>Certificate</th>\n",
       "      <th>Runtime (min)</th>\n",
       "      <th>Genre</th>\n",
       "      <th>Actors</th>\n",
       "      <th>Director</th>\n",
       "      <th>Year</th>\n",
       "      <th>tmdbRating</th>\n",
       "      <th>imdbRating</th>\n",
       "      <th>rottenRating</th>\n",
       "    </tr>\n",
       "  </thead>\n",
       "  <tbody>\n",
       "    <tr>\n",
       "      <th>0</th>\n",
       "      <td>https://image.tmdb.org/t/p/w500/9cqNxx0GxF0bfl...</td>\n",
       "      <td>The Shawshank Redemption</td>\n",
       "      <td>Imprisoned in the 1940s for the double murder ...</td>\n",
       "      <td>R</td>\n",
       "      <td>142</td>\n",
       "      <td>Drama, Crime</td>\n",
       "      <td>Morgan Freeman, Tim Robbins, Bob Gunton, Willi...</td>\n",
       "      <td>Frank Darabont</td>\n",
       "      <td>1994</td>\n",
       "      <td>8.700</td>\n",
       "      <td>9.3</td>\n",
       "      <td>NaN</td>\n",
       "    </tr>\n",
       "    <tr>\n",
       "      <th>1</th>\n",
       "      <td>https://image.tmdb.org/t/p/w500/3bhkrj58Vtu7en...</td>\n",
       "      <td>The Godfather</td>\n",
       "      <td>Spanning the years 1945 to 1955, a chronicle o...</td>\n",
       "      <td>R</td>\n",
       "      <td>175</td>\n",
       "      <td>Drama, Crime</td>\n",
       "      <td>Marlon Brando, Al Pacino, James Caan, Robert D...</td>\n",
       "      <td>Francis Ford Coppola</td>\n",
       "      <td>1972</td>\n",
       "      <td>8.686</td>\n",
       "      <td>9.2</td>\n",
       "      <td>97.0</td>\n",
       "    </tr>\n",
       "    <tr>\n",
       "      <th>2</th>\n",
       "      <td>https://image.tmdb.org/t/p/w500/hek3koDUyRQk7F...</td>\n",
       "      <td>The Godfather Part II</td>\n",
       "      <td>In the continuing saga of the Corleone crime f...</td>\n",
       "      <td>R</td>\n",
       "      <td>202</td>\n",
       "      <td>Drama, Crime</td>\n",
       "      <td>Al Pacino, Robert Duvall, Diane Keaton, Robert...</td>\n",
       "      <td>Francis Ford Coppola</td>\n",
       "      <td>1974</td>\n",
       "      <td>8.570</td>\n",
       "      <td>9.2</td>\n",
       "      <td>97.0</td>\n",
       "    </tr>\n",
       "    <tr>\n",
       "      <th>3</th>\n",
       "      <td>https://image.tmdb.org/t/p/w500/sF1U4EUQS8YHUY...</td>\n",
       "      <td>Schindler's List</td>\n",
       "      <td>The true story of how businessman Oskar Schind...</td>\n",
       "      <td>R</td>\n",
       "      <td>195</td>\n",
       "      <td>Drama, History, War</td>\n",
       "      <td>Liam Neeson, Ben Kingsley, Ralph Fiennes, Caro...</td>\n",
       "      <td>Steven Spielberg</td>\n",
       "      <td>1993</td>\n",
       "      <td>8.564</td>\n",
       "      <td>9.0</td>\n",
       "      <td>98.0</td>\n",
       "    </tr>\n",
       "    <tr>\n",
       "      <th>4</th>\n",
       "      <td>https://image.tmdb.org/t/p/w500/ow3wq89wM8qd5X...</td>\n",
       "      <td>12 Angry Men</td>\n",
       "      <td>The defense and the prosecution have rested an...</td>\n",
       "      <td>NR</td>\n",
       "      <td>97</td>\n",
       "      <td>Drama</td>\n",
       "      <td>Martin Balsam, John Fiedler, Lee J. Cobb, E.G....</td>\n",
       "      <td>Sidney Lumet</td>\n",
       "      <td>1957</td>\n",
       "      <td>8.548</td>\n",
       "      <td>9.0</td>\n",
       "      <td>100.0</td>\n",
       "    </tr>\n",
       "  </tbody>\n",
       "</table>\n",
       "</div>"
      ],
      "text/plain": [
       "                                         Poster_Link  \\\n",
       "0  https://image.tmdb.org/t/p/w500/9cqNxx0GxF0bfl...   \n",
       "1  https://image.tmdb.org/t/p/w500/3bhkrj58Vtu7en...   \n",
       "2  https://image.tmdb.org/t/p/w500/hek3koDUyRQk7F...   \n",
       "3  https://image.tmdb.org/t/p/w500/sF1U4EUQS8YHUY...   \n",
       "4  https://image.tmdb.org/t/p/w500/ow3wq89wM8qd5X...   \n",
       "\n",
       "                      Title  \\\n",
       "0  The Shawshank Redemption   \n",
       "1             The Godfather   \n",
       "2     The Godfather Part II   \n",
       "3          Schindler's List   \n",
       "4              12 Angry Men   \n",
       "\n",
       "                                            Overview Certificate  \\\n",
       "0  Imprisoned in the 1940s for the double murder ...           R   \n",
       "1  Spanning the years 1945 to 1955, a chronicle o...           R   \n",
       "2  In the continuing saga of the Corleone crime f...           R   \n",
       "3  The true story of how businessman Oskar Schind...           R   \n",
       "4  The defense and the prosecution have rested an...          NR   \n",
       "\n",
       "   Runtime (min)                Genre  \\\n",
       "0            142         Drama, Crime   \n",
       "1            175         Drama, Crime   \n",
       "2            202         Drama, Crime   \n",
       "3            195  Drama, History, War   \n",
       "4             97                Drama   \n",
       "\n",
       "                                              Actors              Director  \\\n",
       "0  Morgan Freeman, Tim Robbins, Bob Gunton, Willi...        Frank Darabont   \n",
       "1  Marlon Brando, Al Pacino, James Caan, Robert D...  Francis Ford Coppola   \n",
       "2  Al Pacino, Robert Duvall, Diane Keaton, Robert...  Francis Ford Coppola   \n",
       "3  Liam Neeson, Ben Kingsley, Ralph Fiennes, Caro...      Steven Spielberg   \n",
       "4  Martin Balsam, John Fiedler, Lee J. Cobb, E.G....          Sidney Lumet   \n",
       "\n",
       "   Year  tmdbRating  imdbRating  rottenRating  \n",
       "0  1994       8.700         9.3           NaN  \n",
       "1  1972       8.686         9.2          97.0  \n",
       "2  1974       8.570         9.2          97.0  \n",
       "3  1993       8.564         9.0          98.0  \n",
       "4  1957       8.548         9.0         100.0  "
      ]
     },
     "execution_count": 12,
     "metadata": {},
     "output_type": "execute_result"
    }
   ],
   "source": [
    "def drop_missing_features(df: pd.DataFrame, missing_percentage: pd.Series, threshold: float = 75.0) -> pd.DataFrame:\n",
    "    # Find columns with missing data percentage greater than the threshold\n",
    "    cols_to_drop = missing_percentage[missing_percentage > threshold].index\n",
    "    # Drop those columns from the DataFrame\n",
    "    return df.drop(columns=cols_to_drop)\n",
    "\n",
    "# Apply the function to the dataframe `data` using the `missing_percentage` series\n",
    "data = drop_missing_features(data, missing_percentage)\n",
    "\n",
    "# Display the first few rows of the resulting dataframe\n",
    "data.head()\n"
   ]
  },
  {
   "cell_type": "markdown",
   "metadata": {},
   "source": [
    "##### After determining the percentage of missing data in the columns, we will now **divide them into two categories: numeric data type and non-numeric data type** for processing."
   ]
  },
  {
   "cell_type": "markdown",
   "metadata": {},
   "source": [
    "## For each column with numeric data type, how are the values distributed"
   ]
  },
  {
   "cell_type": "markdown",
   "metadata": {},
   "source": [
    "For columns with numeric data types, we will calculate:\n",
    "- Percentage (from 0 to 100) of missing values\n",
    "- The min\n",
    "- The lower quartile\n",
    "- The median\n",
    "- The upper quartile\n",
    "- The max\n",
    "\n"
   ]
  },
  {
   "cell_type": "code",
   "execution_count": 13,
   "metadata": {},
   "outputs": [
    {
     "name": "stdout",
     "output_type": "stream",
     "text": [
      "                Runtime (min)    Year  tmdbRating  imdbRating  rottenRating\n",
      "missing_ratio             0.0     0.0         0.0        57.4          69.0\n",
      "min                       4.0  1902.0         7.9         8.1          89.0\n",
      "lower_quartile          100.0  1975.8         7.9         8.2          94.0\n",
      "median                  117.0  2004.0         8.0         8.3          96.0\n",
      "upper_quartile          137.0  2018.0         8.2         8.5          98.0\n",
      "max                     367.0  2025.0         8.7         9.3         100.0\n"
     ]
    }
   ],
   "source": [
    "def missing_ratio(column):\n",
    "    return column.isna().mean() * 100\n",
    "\n",
    "def lower_quartile(column):\n",
    "    return column.quantile(0.25)\n",
    "\n",
    "def median(column):\n",
    "    return column.median()\n",
    "\n",
    "def upper_quartile(column):\n",
    "    return column.quantile(0.75)\n",
    "\n",
    "# Select numerical columns (float64, int64) from the DataFrame\n",
    "numeric_cols = data.select_dtypes(include=['float64', 'int64']).columns\n",
    "\n",
    "# Dictionary to store the statistics\n",
    "statistics = {\n",
    "    \"missing_ratio\": [],\n",
    "    \"min\": [],\n",
    "    \"lower_quartile\": [],\n",
    "    \"median\": [],\n",
    "    \"upper_quartile\": [],\n",
    "    \"max\": []\n",
    "}\n",
    "\n",
    "# Calculate statistics for each numerical column\n",
    "for col in numeric_cols:\n",
    "    missing_ratio_val = missing_ratio(data[col])\n",
    "    min_val = data[col].min()\n",
    "    lower_quartile_val = lower_quartile(data[col])\n",
    "    median_val = median(data[col])\n",
    "    upper_quartile_val = upper_quartile(data[col])\n",
    "    max_val = data[col].max()\n",
    "    \n",
    "    statistics[\"missing_ratio\"].append(missing_ratio_val)\n",
    "    statistics[\"min\"].append(min_val)\n",
    "    statistics[\"lower_quartile\"].append(lower_quartile_val)\n",
    "    statistics[\"median\"].append(median_val)\n",
    "    statistics[\"upper_quartile\"].append(upper_quartile_val)\n",
    "    statistics[\"max\"].append(max_val)\n",
    "\n",
    "# Create a DataFrame from the statistics dictionary\n",
    "num_col_info_df = pd.DataFrame(statistics, index=numeric_cols).T.round(1)\n",
    "print(num_col_info_df)\n"
   ]
  },
  {
   "cell_type": "markdown",
   "metadata": {},
   "source": [
    "## For each column with a non-numeric data type, how are the values distributed?"
   ]
  },
  {
   "cell_type": "code",
   "execution_count": 14,
   "metadata": {},
   "outputs": [
    {
     "name": "stdout",
     "output_type": "stream",
     "text": [
      "               Poster_Link  Title  Overview  Certificate  Genre  Actors  \\\n",
      "missing_ratio          0.0    0.0       0.0         17.8    0.0     0.8   \n",
      "num_values           500.0  499.0     500.0          6.0  254.0   494.0   \n",
      "\n",
      "               Director  \n",
      "missing_ratio       0.0  \n",
      "num_values        359.0  \n"
     ]
    }
   ],
   "source": [
    "non_numeric_cols = data.select_dtypes(exclude=['float64', 'int64']).columns\n",
    "cat_statistics = {\n",
    "    \"missing_ratio\": [],\n",
    "    \"num_values\": [],  #Numbers of unique values\n",
    "}\n",
    "for col in non_numeric_cols:\n",
    "    \n",
    "    missing_ratio = data[col].isna().mean() * 100\n",
    "\n",
    "    num_values = data[col].nunique()\n",
    "\n",
    "    cat_statistics[\"missing_ratio\"].append(round(missing_ratio, 1))\n",
    "    cat_statistics[\"num_values\"].append(num_values)\n",
    "\n",
    "    \n",
    "cat_col_info_df = pd.DataFrame(cat_statistics, index=non_numeric_cols).T\n",
    "print (cat_col_info_df)"
   ]
  },
  {
   "cell_type": "markdown",
   "metadata": {},
   "source": [
    "### => After confirming the percentage of missing values in the columns of the data, we will begin handling the missing data by using the TMDB API key to fill in the missing attributes\n",
    "The missing values in the Certificate, rottenRating, and imdbRating columns can be explained as follows:\n",
    "- The movie's certificate data might not be available on the TMDB website.\n",
    "- The missing rottenRating and imdbRating scores are due to merging files based on movie titles. The original TMDB file contains 500 rows of data, while the other two files contain 300 and 250 rows, respectively. This discrepancy leads to missing scores.\n",
    "\n"
   ]
  },
  {
   "cell_type": "markdown",
   "metadata": {},
   "source": [
    "## Filled missing data"
   ]
  },
  {
   "cell_type": "code",
   "execution_count": 26,
   "metadata": {},
   "outputs": [],
   "source": [
    "# Fill missing values in numeric columns with 0 (imdbRating, rottenRating)\n",
    "data[numeric_cols] = data[numeric_cols].fillna(0)\n",
    "data.to_csv('merged_result.csv', index=False)"
   ]
  },
  {
   "cell_type": "code",
   "execution_count": 27,
   "metadata": {},
   "outputs": [
    {
     "name": "stdout",
     "output_type": "stream",
     "text": [
      "✅ Filled: A Dog's Will\n",
      "✅ Filled: Impossible Things\n",
      "✅ Filled: Gabriel's Inferno\n",
      "✅ Filled: Hope\n",
      "✅ Filled: Gabriel's Inferno: Part III\n",
      "✅ Filled: Lucy Shimmers and the Prince of Peace\n",
      "✅ Filled: The Quintessential Quintuplets Movie\n",
      "✅ Filled: Josee, the Tiger and the Fish\n",
      "✅ Filled: Dedicated to my ex\n",
      "✅ Filled: We All Loved Each Other So Much\n",
      "✅ Filled: Given\n",
      "✅ Filled: Miracle in Cell No. 7\n",
      "✅ Filled: I Want to Eat Your Pancreas\n",
      "✅ Filled: Out of the Clear Blue Sky\n",
      "✅ Filled: Il Sorpasso\n",
      "✅ Filled: The Apartment\n",
      "✅ Filled: Flow\n",
      "✅ Filled: Michael Jackson's Thriller\n",
      "✅ Filled: My Mom Is a Character 3\n",
      "✅ Filled: Doctor Who: The Day of the Doctor\n",
      "✅ Filled: 20th Century Girl\n",
      "✅ Filled: Tokyo Story\n",
      "✅ Filled: The Kid\n",
      "✅ Filled: Persona\n",
      "✅ Filled: Piper\n",
      "✅ Filled: Capernaum\n",
      "✅ Filled: Scenes from a Marriage\n",
      "✅ Filled: Violet Evergarden: Eternity and the Auto Memory Doll\n",
      "✅ Filled: Silenced\n",
      "✅ Filled: Central Station\n",
      "✅ Filled: Red Beard\n",
      "✅ Filled: Wild Strawberries\n",
      "✅ Filled: “The Shorts” by Aldo, Giovanni and Giacomo\n",
      "✅ Filled: The Great War\n",
      "✅ Filled: Green Snake\n",
      "✅ Filled: The Invisible Guest\n",
      "✅ Filled: Big Deal on Madonna Street\n",
      "✅ Filled: Sansho the Bailiff\n",
      "✅ Filled: New Gods: Nezha Reborn\n",
      "✅ Filled: Far from the Tree\n",
      "✅ Filled: KONOSUBA – God's blessing on this wonderful world! Legend of Crimson\n",
      "✅ Filled: To Live\n",
      "✅ Filled: A Taxi Driver\n",
      "✅ Filled: Memories of Murder\n",
      "✅ Filled: The Young and the Damned\n",
      "✅ Filled: Me Against You: Mr. S's Vendetta\n",
      "✅ Filled: Bo Burnham: Make Happy\n",
      "✅ Filled: The Second Mother\n",
      "✅ Filled: On My Skin\n",
      "✅ Filled: Late Spring\n",
      "✅ Filled: Veinteañera, divorciada y fantástica\n",
      "✅ Filled: Rome, Open City\n",
      "✅ Filled: Toto, Peppino, and the Hussy\n",
      "✅ Filled: All Your Faces\n",
      "✅ Filled: Bingo: The King of the Mornings\n",
      "✅ Filled: In a Heartbeat\n",
      "✅ Filled: North by Northwest\n",
      "✅ Filled: El mesero\n",
      "✅ Filled: Nights of Cabiria\n",
      "✅ Filled: Kitbull\n",
      "✅ Filled: Love Hurts\n",
      "✅ Filled: The Hidden Fortress\n",
      "✅ Filled: Three Men and a Leg\n",
      "✅ Filled: Castaway on the Moon\n",
      "✅ Filled: Tel chi el telùn\n",
      "✅ Filled: Ordet\n",
      "✅ Filled: Miracle in Cell No. 7\n",
      "✅ Filled: The Exterminating Angel\n",
      "✅ Filled: Raise the Red Lantern\n",
      "✅ Filled: Ivan Vasilyevich Changes His Profession\n",
      "✅ Filled: Where Is The Friend's House?\n",
      "✅ Filled: Throne of Blood\n",
      "✅ Filled: Forgotten\n",
      "✅ Filled: Miraculous World: Shanghai - The Legend of Ladydragon\n",
      "✅ Filled: It's Such a Beautiful Day\n",
      "✅ Filled: The Cranes Are Flying\n",
      "✅ Filled: Children of Heaven\n",
      "✅ Filled: My Father's Violin\n",
      "✅ Filled: Divorce Italian Style\n",
      "✅ Filled: Simone: Woman of the Century\n",
      "✅ Filled: The Boy Who Harnessed the Wind\n",
      "✅ Filled: La Maison en Petits Cubes\n",
      "✅ Filled: Remi, Nobody's Boy\n",
      "✅ Filled: Winter Light\n",
      "✅ Filled: Pather Panchali\n",
      "✅ Filled: Umberto D.\n",
      "✅ Filled: Werckmeister Harmonies\n",
      "✅ Filled: Mamma Roma\n",
      "✅ Filled: The Witch: Part 1. The Subversion\n",
      "✅ Filled: The Night of the Hunter\n",
      "✅ Filled: Invisible Life\n",
      "✅ Filled: Perfect Strangers\n",
      "✅ Filled: Let Go\n",
      "✅ Done! Output saved to: movie.csv\n"
     ]
    }
   ],
   "source": [
    "import requests\n",
    "import csv\n",
    "import time\n",
    "\n",
    "API_KEY = '738f8682fc5143163b145d03a2016b0b'\n",
    "BASE_URL = 'https://api.themoviedb.org/3'\n",
    "SEARCH_URL = f'{BASE_URL}/search/movie'\n",
    "\n",
    "def search_movie_by_title(title):\n",
    "    params = {\n",
    "        'api_key': API_KEY,\n",
    "        'query': title,\n",
    "        'language': 'en-US'\n",
    "    }\n",
    "    response = requests.get(SEARCH_URL, params=params)\n",
    "    if response.status_code == 200:\n",
    "        results = response.json().get('results', [])\n",
    "        return results[0] if results else None\n",
    "    return None\n",
    "\n",
    "def get_movie_details(movie_id):\n",
    "    url = f'{BASE_URL}/movie/{movie_id}?language=en-US&api_key={API_KEY}'\n",
    "    return requests.get(url).json()\n",
    "\n",
    "def get_movie_credits(movie_id):\n",
    "    url = f'{BASE_URL}/movie/{movie_id}/credits?api_key={API_KEY}'\n",
    "    return requests.get(url).json()\n",
    "\n",
    "def get_movie_certification(movie_id):\n",
    "    url = f'{BASE_URL}/movie/{movie_id}/release_dates?api_key={API_KEY}'\n",
    "    response = requests.get(url)\n",
    "    if response.status_code == 200:\n",
    "        results = response.json().get(\"results\", [])\n",
    "        for country in results:\n",
    "            if country.get(\"iso_3166_1\") == \"US\":\n",
    "                for release in country.get(\"release_dates\", []):\n",
    "                    cert = release.get(\"certification\")\n",
    "                    if cert:\n",
    "                        return cert\n",
    "    return ''\n",
    "\n",
    "def fill_missing_fields(row):\n",
    "    title = row.get('Title', '')\n",
    "    if not title:\n",
    "        print(\"❌ Title is missing in the row\")\n",
    "        return row\n",
    "\n",
    "    movie = search_movie_by_title(title)\n",
    "    if not movie:\n",
    "        print(f\"❌ Movie not found: {title}\")\n",
    "        return row\n",
    "\n",
    "    movie_id = movie['id']\n",
    "    details = get_movie_details(movie_id)\n",
    "    credits = get_movie_credits(movie_id)\n",
    "    cert = get_movie_certification(movie_id)\n",
    "\n",
    "    if not row.get('Poster_Link'):\n",
    "        poster_path = details.get('poster_path', '')\n",
    "        row['Poster_Link'] = f'https://image.tmdb.org/t/p/w500{poster_path}' if poster_path else ''\n",
    "\n",
    "    if not row.get('Overview'):\n",
    "        row['Overview'] = details.get('overview', '')\n",
    "\n",
    "    if not row.get('Certificate'):\n",
    "        row['Certificate'] = cert\n",
    "\n",
    "    if not row.get('Runtime (min)'):\n",
    "        row['Runtime (min)'] = details.get('runtime', 0)\n",
    "\n",
    "    if not row.get('Genre'):\n",
    "        genres = [genre['name'] for genre in details.get('genres', [])]\n",
    "        row['Genre'] = ', '.join(genres)\n",
    "\n",
    "    if not row.get('Actors'):\n",
    "        actors = [cast['name'] for cast in credits.get('cast', [])[:5]]\n",
    "        row['Actors'] = ', '.join(actors)\n",
    "\n",
    "    if not row.get('Director'):\n",
    "        directors = [crew['name'] for crew in credits.get('crew', []) if crew['job'] == 'Director']\n",
    "        row['Director'] = ', '.join(directors)\n",
    "\n",
    "    if not row.get('Year'):\n",
    "        row['Year'] = details.get('release_date', '')[:4]\n",
    "\n",
    "    if not row.get('tmdbRating'):\n",
    "        row['tmdbRating'] = details.get('vote_average', 0)\n",
    "\n",
    "\n",
    "    time.sleep(0.25)\n",
    "    print(f\"✅ Filled: {title}\")\n",
    "    return row\n",
    "\n",
    "def main():\n",
    "    input_file = 'merged_result.csv'\n",
    "    data = []\n",
    "    with open(input_file, mode='r', encoding='utf-8') as file:\n",
    "        reader = csv.DictReader(file)\n",
    "        data = list(reader)\n",
    "\n",
    "    # Giữ nguyên phần xử lý tiếp theo\n",
    "    filled_rows = []\n",
    "    for row in data:\n",
    "        needs_fill = any(not row.get(field) for field in [\n",
    "            'Poster_Link', 'Overview', 'Certificate', 'Runtime (min)',\n",
    "            'Genre', 'Actors', 'Director', 'Year', 'tmdbRating'\n",
    "        ])\n",
    "        if needs_fill:\n",
    "            row = fill_missing_fields(row)\n",
    "        filled_rows.append(row)\n",
    "\n",
    "    fieldnames = [\n",
    "        'Poster_Link', 'Title', 'Certificate', 'Overview',\n",
    "        'Runtime (min)', 'Genre', 'Actors', 'Director',\n",
    "        'Year', 'imdbRating', 'rottenRating', 'tmdbRating'\n",
    "    ]\n",
    "\n",
    "    output_file = 'movie.csv'\n",
    "    with open(output_file, mode='w', encoding='utf-8', newline='') as file:\n",
    "        writer = csv.DictWriter(file, fieldnames=fieldnames)\n",
    "        writer.writeheader()\n",
    "        for row in filled_rows:\n",
    "            writer.writerow({field: row.get(field, '') for field in fieldnames})\n",
    "\n",
    "    print(\"✅ Done! Output saved to:\", output_file)\n",
    "\n",
    "\n",
    "# Ví dụ sử dụng:\n",
    "if __name__ == '__main__':\n",
    "    main()\n",
    "    "
   ]
  },
  {
   "cell_type": "markdown",
   "metadata": {},
   "source": [
    "### Check again after filled null values"
   ]
  },
  {
   "cell_type": "code",
   "execution_count": 28,
   "metadata": {},
   "outputs": [
    {
     "name": "stdout",
     "output_type": "stream",
     "text": [
      "✅ Your data has no duplicated rows.\n",
      "               Poster_Link  Title  Certificate  Overview  Runtime (min)  \\\n",
      "missing_ratio          0.0    0.0         16.8       0.0            0.0   \n",
      "\n",
      "               Genre  Actors  Director  Year  imdbRating  rottenRating  \\\n",
      "missing_ratio    0.0     0.6       0.0   0.0         0.0           0.0   \n",
      "\n",
      "               tmdbRating  \n",
      "missing_ratio         0.0  \n"
     ]
    }
   ],
   "source": [
    "data_new = pd.read_csv('movie.csv')\n",
    "\n",
    "# Check if data have duplicate rows\n",
    "num_duplicated_rows = data_new.duplicated().sum()\n",
    "if num_duplicated_rows > 0:\n",
    "    print(f\"Found {num_duplicated_rows} duplicated rows. Removing duplicates...\")\n",
    "    data_new = data_new.drop_duplicates()\n",
    "    print(\"✅ Duplicates removed.\")\n",
    "else:\n",
    "    print(\"✅ Your data has no duplicated rows.\")\n",
    "\n",
    "def missing_ratio(column):\n",
    "    return column.isna().mean() * 100\n",
    "\n",
    "# Lấy tất cả các cột\n",
    "all_cols = data_new.columns\n",
    "\n",
    "# Function to calculate the percentage of missing values in each column\n",
    "def calculate_missing_percentage(df):\n",
    "    return df.isnull().mean() * 100\n",
    "\n",
    "# Reset the statistics dictionary to avoid conflicts with previous data\n",
    "statistics = {\n",
    "    \"missing_ratio\": []\n",
    "}\n",
    "\n",
    "for col in all_cols:\n",
    "    col_data = data_new[col]\n",
    "    missing_ratio_val = missing_ratio(col_data)\n",
    "    statistics[\"missing_ratio\"].append(missing_ratio_val)\n",
    "\n",
    "# Create a DataFrame from the statistics dictionary\n",
    "col_info_df = pd.DataFrame(statistics, index=all_cols).T.round(1)\n",
    "print(col_info_df)"
   ]
  },
  {
   "cell_type": "markdown",
   "metadata": {},
   "source": []
  }
 ],
 "metadata": {
  "kernelspec": {
   "display_name": "Python 3",
   "language": "python",
   "name": "python3"
  },
  "language_info": {
   "codemirror_mode": {
    "name": "ipython",
    "version": 3
   },
   "file_extension": ".py",
   "mimetype": "text/x-python",
   "name": "python",
   "nbconvert_exporter": "python",
   "pygments_lexer": "ipython3",
   "version": "3.13.2"
  }
 },
 "nbformat": 4,
 "nbformat_minor": 2
}
