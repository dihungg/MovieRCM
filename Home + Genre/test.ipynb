{
 "cells": [
  {
   "cell_type": "code",
   "execution_count": 2,
   "metadata": {},
   "outputs": [
    {
     "name": "stdout",
     "output_type": "stream",
     "text": [
      "<class 'pandas.core.frame.DataFrame'>\n",
      "RangeIndex: 196 entries, 0 to 195\n",
      "Data columns (total 16 columns):\n",
      " #   Column            Non-Null Count  Dtype  \n",
      "---  ------            --------------  -----  \n",
      " 0   Poster_Link       196 non-null    object \n",
      " 1   Title             196 non-null    object \n",
      " 2   Certificate       196 non-null    object \n",
      " 3   Runtime (min)     196 non-null    int64  \n",
      " 4   Genre             196 non-null    object \n",
      " 5   Overview          196 non-null    object \n",
      " 6   Meta_score        196 non-null    float64\n",
      " 7   Director          196 non-null    object \n",
      " 8   No_of_Votes       196 non-null    int64  \n",
      " 9   Gross             194 non-null    object \n",
      " 10  Year              196 non-null    int64  \n",
      " 11  imdbRating        196 non-null    float64\n",
      " 12  imdbRatingVotes   196 non-null    int64  \n",
      " 13  rottenRating      196 non-null    int64  \n",
      " 14  metacriticRating  196 non-null    int64  \n",
      " 15  Actors            196 non-null    object \n",
      "dtypes: float64(2), int64(6), object(8)\n",
      "memory usage: 24.6+ KB\n",
      "                                         Poster_Link          Title  \\\n",
      "0  https://m.media-amazon.com/images/M/MV5BM2MyNj...  The Godfather   \n",
      "\n",
      "  Certificate  Runtime (min)         Genre  \\\n",
      "0           A            175  Crime, Drama   \n",
      "\n",
      "                                            Overview  Meta_score  \\\n",
      "0  An organized crime dynasty's aging patriarch t...       100.0   \n",
      "\n",
      "               Director  No_of_Votes        Gross  Year  imdbRating  \\\n",
      "0  Francis Ford Coppola      1620367  134,966,411  1972         9.2   \n",
      "\n",
      "   imdbRatingVotes  rottenRating  metacriticRating  \\\n",
      "0          1868934            97               100   \n",
      "\n",
      "                                              Actors  \n",
      "0  Marlon Brando, Al Pacino, James Caan, Diane Ke...  \n"
     ]
    }
   ],
   "source": [
    "import pandas as pd\n",
    "\n",
    "data = pd.read_csv('movie.csv')\n",
    "\n",
    "data.info()\n",
    "\n",
    "print(data.head(1))"
   ]
  },
  {
   "cell_type": "code",
   "execution_count": 4,
   "metadata": {},
   "outputs": [
    {
     "name": "stdout",
     "output_type": "stream",
     "text": [
      "['Crime, Drama' 'Action, Crime, Drama' 'Action, Adventure, Drama'\n",
      " 'Biography, Drama, History' 'Action, Adventure, Sci-Fi' 'Drama, Romance'\n",
      " 'Action, Sci-Fi' 'Action, Adventure, Fantasy' 'Adventure, Drama, Sci-Fi'\n",
      " 'Drama, War' 'Crime, Drama, Fantasy' 'Crime, Drama, Mystery'\n",
      " 'Crime, Drama, Thriller' 'Biography, Comedy, Drama'\n",
      " 'Animation, Adventure, Drama' 'Adventure, Comedy, Sci-Fi'\n",
      " 'Action, Biography, Drama' 'Animation, Action, Adventure'\n",
      " 'Animation, Adventure, Family' 'Drama, Western' 'Action, Adventure'\n",
      " 'Drama, Thriller, War' 'Adventure, Drama, War' 'Drama'\n",
      " 'Animation, Adventure, Comedy' 'Action, Drama' 'Mystery, Thriller'\n",
      " 'Biography, Crime, Drama' 'Biography, Drama' 'Action, Drama, Sci-Fi'\n",
      " 'Drama, Mystery, Thriller' 'Adventure, Drama, Fantasy' 'Drama, Sport'\n",
      " 'Comedy, Drama' 'Drama, History, Romance' 'Comedy, Drama, Music'\n",
      " 'Drama, Family' 'Biography, Drama, Thriller' 'Action, Adventure, Comedy'\n",
      " 'Action, Drama, Mystery' 'Biography, Drama, Music' 'Drama, Thriller'\n",
      " 'Action, Mystery, Thriller' 'Action, Adventure, Thriller'\n",
      " 'Drama, History, Thriller' 'Animation, Family, Fantasy'\n",
      " 'Adventure, Drama, Western' 'Adventure, Thriller' 'Horror'\n",
      " 'Adventure, Sci-Fi' 'Comedy, Crime, Drama' 'Drama, Sci-Fi'\n",
      " 'Action, Sci-Fi, Thriller' 'Adventure, Family, Fantasy'\n",
      " 'Adventure, Horror, Sci-Fi' 'Action, Drama, History'\n",
      " 'Adventure, Comedy, Family' 'Adventure, Biography, Crime'\n",
      " 'Adventure, Fantasy' 'Action, Thriller' 'Drama, Fantasy, Romance'\n",
      " 'Adventure, Drama, Romance' 'Action, Comedy, Fantasy' 'Family, Sci-Fi'\n",
      " 'Horror, Mystery, Thriller' 'Drama, Sci-Fi, Thriller' 'Comedy'\n",
      " 'Comedy, Drama, Romance' 'Crime, Thriller' 'Horror, Thriller'\n",
      " 'Drama, Music, Romance' 'Animation, Comedy, Crime'\n",
      " 'Action, Adventure, Mystery' 'Biography, Drama, Sport'\n",
      " 'Action, Adventure, Family' 'Action, Crime, Mystery'\n",
      " 'Adventure, Drama, History' 'Comedy, Family']\n"
     ]
    }
   ],
   "source": [
    "genre = data['Genre'].unique()\n",
    "print (genre)"
   ]
  },
  {
   "cell_type": "code",
   "execution_count": 3,
   "metadata": {},
   "outputs": [],
   "source": [
    "# Đọc file json\n",
    "data = pd.read_json('result.json')\n"
   ]
  },
  {
   "cell_type": "code",
   "execution_count": null,
   "metadata": {},
   "outputs": [],
   "source": []
  }
 ],
 "metadata": {
  "kernelspec": {
   "display_name": "base",
   "language": "python",
   "name": "python3"
  },
  "language_info": {
   "codemirror_mode": {
    "name": "ipython",
    "version": 3
   },
   "file_extension": ".py",
   "mimetype": "text/x-python",
   "name": "python",
   "nbconvert_exporter": "python",
   "pygments_lexer": "ipython3",
   "version": "3.11.7"
  }
 },
 "nbformat": 4,
 "nbformat_minor": 2
}
