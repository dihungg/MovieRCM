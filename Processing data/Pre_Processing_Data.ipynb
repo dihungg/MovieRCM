{
 "cells": [
  {
   "cell_type": "markdown",
   "metadata": {},
   "source": [
    "## DATA PREPROCESSING"
   ]
  },
  {
   "cell_type": "markdown",
   "metadata": {},
   "source": [
    "\n",
    "# 1. Overview of preprocessing and data exploration\n",
    "\n",
    "- Handling missing data\n",
    "\n",
    "- Noise handling"
   ]
  },
  {
   "cell_type": "code",
   "execution_count": 1,
   "metadata": {},
   "outputs": [],
   "source": [
    "#import library\n",
    "import requests\n",
    "import numpy as np\n",
    "import pandas as pd"
   ]
  },
  {
   "cell_type": "markdown",
   "metadata": {},
   "source": [
    "# Read the original obtained data file:\n"
   ]
  },
  {
   "cell_type": "code",
   "execution_count": 2,
   "metadata": {},
   "outputs": [
    {
     "name": "stdout",
     "output_type": "stream",
     "text": [
      "                                           Poster_Link  \\\n",
      "0    https://m.media-amazon.com/images/M/MV5BM2MyNj...   \n",
      "1    https://m.media-amazon.com/images/M/MV5BMTMxNT...   \n",
      "2    https://m.media-amazon.com/images/M/MV5BNzA5ZD...   \n",
      "3    https://m.media-amazon.com/images/M/MV5BNGNhMD...   \n",
      "4    https://m.media-amazon.com/images/M/MV5BNDE4OT...   \n",
      "..                                                 ...   \n",
      "191  https://m.media-amazon.com/images/M/MV5BMzFkM2...   \n",
      "192  https://m.media-amazon.com/images/M/MV5BN2JlZT...   \n",
      "193  https://m.media-amazon.com/images/M/MV5BMjM1Nj...   \n",
      "194  https://m.media-amazon.com/images/M/MV5BMjAwMT...   \n",
      "195  https://m.media-amazon.com/images/M/MV5BMjAwMT...   \n",
      "\n",
      "                                             Title Certificate  Runtime (min)  \\\n",
      "0                                    The Godfather           A            175   \n",
      "1                                  The Dark Knight          UA            152   \n",
      "2    The Lord of the Rings: The Return of the King           U            201   \n",
      "3                                     Pulp Fiction           A            154   \n",
      "4                                 Schindler's List           A            195   \n",
      "..                                             ...         ...            ...   \n",
      "191                                     Home Alone           U            103   \n",
      "192                             The Little Mermaid           U             83   \n",
      "193             Close Encounters of the Third Kind           U            138   \n",
      "194                                The Jungle Book           U             78   \n",
      "195                                The Jungle Book           U             78   \n",
      "\n",
      "                            Genre  \\\n",
      "0                    Crime, Drama   \n",
      "1            Action, Crime, Drama   \n",
      "2        Action, Adventure, Drama   \n",
      "3                    Crime, Drama   \n",
      "4       Biography, Drama, History   \n",
      "..                            ...   \n",
      "191                Comedy, Family   \n",
      "192    Animation, Family, Fantasy   \n",
      "193                 Drama, Sci-Fi   \n",
      "194  Animation, Adventure, Family   \n",
      "195  Animation, Adventure, Family   \n",
      "\n",
      "                                              Overview  Meta_score  \\\n",
      "0    An organized crime dynasty's aging patriarch t...       100.0   \n",
      "1    When the menace known as the Joker wreaks havo...        84.0   \n",
      "2    Gandalf and Aragorn lead the World of Men agai...        94.0   \n",
      "3    The lives of two mob hitmen, a boxer, a gangst...        94.0   \n",
      "4    In German-occupied Poland during World War II,...        94.0   \n",
      "..                                                 ...         ...   \n",
      "191  An eight-year-old troublemaker must protect hi...        63.0   \n",
      "192  A mermaid princess makes a Faustian bargain in...        88.0   \n",
      "193  Roy Neary, an electric lineman, watches how hi...        90.0   \n",
      "194  Bagheera the Panther and Baloo the Bear have a...        65.0   \n",
      "195  Bagheera the Panther and Baloo the Bear have a...        65.0   \n",
      "\n",
      "                 Director  No_of_Votes        Gross  Year  imdbRating  \\\n",
      "0    Francis Ford Coppola      1620367  134,966,411  1972         9.2   \n",
      "1       Christopher Nolan      2303232  534,858,444  2008         9.0   \n",
      "2           Peter Jackson      1642758  377,845,905  2003         9.0   \n",
      "3       Quentin Tarantino      1826188  107,928,762  1994         8.9   \n",
      "4        Steven Spielberg      1213505   96,898,818  1993         9.0   \n",
      "..                    ...          ...          ...   ...         ...   \n",
      "191        Chris Columbus       488817  285,761,243  1990         7.7   \n",
      "192          Ron Clements       237696  111,543,479  1989         7.6   \n",
      "193      Steven Spielberg       184966  132,088,635  1977         7.6   \n",
      "194   Wolfgang Reitherman       166409  141,843,612  2016         7.4   \n",
      "195   Wolfgang Reitherman       166409  141,843,612  2016         7.4   \n",
      "\n",
      "     imdbRatingVotes  rottenRating  metacriticRating  \\\n",
      "0            1868934            97               100   \n",
      "1            2667813            94                84   \n",
      "2            1855485            93                94   \n",
      "3            2067298            92                94   \n",
      "4            1362192            98                94   \n",
      "..               ...           ...               ...   \n",
      "191           595952            66                63   \n",
      "192           267512            92                88   \n",
      "193           204977            94                90   \n",
      "194           280192            94                77   \n",
      "195           280192            94                77   \n",
      "\n",
      "                                                Actors  \n",
      "0    Marlon Brando, Al Pacino, James Caan, Diane Ke...  \n",
      "1    Christian Bale, Heath Ledger, Aaron Eckhart, M...  \n",
      "2    Elijah Wood, Viggo Mortensen, Ian McKellen, Or...  \n",
      "3    John Travolta, Uma Thurman, Samuel L. Jackson,...  \n",
      "4    Liam Neeson, Ralph Fiennes, Ben Kingsley, Caro...  \n",
      "..                                                 ...  \n",
      "191  Macaulay Culkin, Joe Pesci, Daniel Stern, John...  \n",
      "192  John Musker, Jodi Benson, Samuel E. Wright, Re...  \n",
      "193  Richard Dreyfuss, François Truffaut, Teri Garr...  \n",
      "194  Phil Harris, Sebastian Cabot, Louis Prima, Bru...  \n",
      "195  Phil Harris, Sebastian Cabot, Louis Prima, Bru...  \n",
      "\n",
      "[196 rows x 16 columns]\n"
     ]
    }
   ],
   "source": [
    "#Read data\n",
    "data_origin = pd.read_csv(\"movie.csv\")\n",
    "print(data_origin)"
   ]
  },
  {
   "cell_type": "markdown",
   "metadata": {},
   "source": [
    "Obtain 196 rows and 16 columns"
   ]
  },
  {
   "cell_type": "markdown",
   "metadata": {},
   "source": [
    "## Does the raw data have duplicate rows?"
   ]
  },
  {
   "cell_type": "code",
   "execution_count": 3,
   "metadata": {},
   "outputs": [
    {
     "name": "stdout",
     "output_type": "stream",
     "text": [
      "Your raw data have 5 duplicated lines. Please de-deduplicate your raw data.!\n"
     ]
    }
   ],
   "source": [
    "# Check if data have duplicate rows\n",
    "num_duplicated_rows = data_origin.duplicated().sum()\n",
    "if num_duplicated_rows == 0:\n",
    "    print(f\"Your raw data have no duplicated line.!\")\n",
    "else:\n",
    "    if num_duplicated_rows > 1:\n",
    "        ext = \"lines\"\n",
    "    else:\n",
    "        ext = \"line\"\n",
    "    print(f\"Your raw data have {num_duplicated_rows} duplicated \" + ext + \". Please de-deduplicate your raw data.!\")"
   ]
  },
  {
   "cell_type": "code",
   "execution_count": 4,
   "metadata": {},
   "outputs": [
    {
     "name": "stdout",
     "output_type": "stream",
     "text": [
      "Your raw data have no duplicated line.!\n"
     ]
    }
   ],
   "source": [
    "#Drop duplicate\n",
    "data_origin.drop_duplicates(inplace=True)\n",
    "\n",
    "# Check if data have duplicate rows\n",
    "num_duplicated_rows = data_origin.duplicated().sum()\n",
    "if num_duplicated_rows == 0:\n",
    "    print(f\"Your raw data have no duplicated line.!\")\n",
    "else:\n",
    "    if num_duplicated_rows > 1:\n",
    "        ext = \"lines\"\n",
    "    else:\n",
    "        ext = \"line\"\n",
    "    print(f\"Your raw data have {num_duplicated_rows} duplicated \" + ext + \". Please de-deduplicate your raw data.!\")"
   ]
  },
  {
   "cell_type": "markdown",
   "metadata": {},
   "source": [
    "After checking, there are 5 duplicate columns."
   ]
  },
  {
   "cell_type": "markdown",
   "metadata": {},
   "source": [
    "## What data type does each column currently have? Are there any columns whose data types are not suitable for further processing?"
   ]
  },
  {
   "cell_type": "code",
   "execution_count": 7,
   "metadata": {},
   "outputs": [
    {
     "name": "stdout",
     "output_type": "stream",
     "text": [
      "Poster_Link          object\n",
      "Title                object\n",
      "Certificate          object\n",
      "Runtime (min)         int64\n",
      "Genre                object\n",
      "Overview             object\n",
      "Meta_score          float64\n",
      "Director             object\n",
      "No_of_Votes           int64\n",
      "Gross                object\n",
      "Year                  int64\n",
      "imdbRating          float64\n",
      "imdbRatingVotes       int64\n",
      "rottenRating          int64\n",
      "metacriticRating      int64\n",
      "Actors               object\n",
      "dtype: object\n"
     ]
    }
   ],
   "source": [
    "#Type of each column\n",
    "dtypes = data_origin.dtypes\n",
    "\n",
    "print(dtypes)"
   ]
  },
  {
   "cell_type": "markdown",
   "metadata": {},
   "source": [
    "# Check the percentage of missing data in the columns"
   ]
  },
  {
   "cell_type": "code",
   "execution_count": 8,
   "metadata": {},
   "outputs": [
    {
     "name": "stdout",
     "output_type": "stream",
     "text": [
      "Missing ratio\n",
      "Poster_Link         0.00000\n",
      "Title               0.00000\n",
      "Certificate         0.00000\n",
      "Runtime (min)       0.00000\n",
      "Genre               0.00000\n",
      "Overview            0.00000\n",
      "Meta_score          0.00000\n",
      "Director            0.00000\n",
      "No_of_Votes         0.00000\n",
      "Gross               1.04712\n",
      "Year                0.00000\n",
      "imdbRating          0.00000\n",
      "imdbRatingVotes     0.00000\n",
      "rottenRating        0.00000\n",
      "metacriticRating    0.00000\n",
      "Actors              0.00000\n",
      "dtype: float64\n"
     ]
    }
   ],
   "source": [
    "#Percentage of missing data\n",
    "missing_percentage = data_origin.isnull().mean() * 100\n",
    "print(\"Missing ratio\")\n",
    "print(missing_percentage)"
   ]
  },
  {
   "cell_type": "code",
   "execution_count": 10,
   "metadata": {},
   "outputs": [
    {
     "name": "stdout",
     "output_type": "stream",
     "text": [
      "Missing ratio\n",
      "Poster_Link         0.0\n",
      "Title               0.0\n",
      "Certificate         0.0\n",
      "Runtime (min)       0.0\n",
      "Genre               0.0\n",
      "Overview            0.0\n",
      "Meta_score          0.0\n",
      "Director            0.0\n",
      "No_of_Votes         0.0\n",
      "Gross               0.0\n",
      "Year                0.0\n",
      "imdbRating          0.0\n",
      "imdbRatingVotes     0.0\n",
      "rottenRating        0.0\n",
      "metacriticRating    0.0\n",
      "Actors              0.0\n",
      "dtype: float64\n"
     ]
    }
   ],
   "source": [
    "#Cho các cột có missing data thành unknown\n",
    "data_origin.fillna(\"unknown\", inplace=True)\n",
    "#check again\n",
    "#Percentage of missing data\n",
    "missing_percentage = data_origin.isnull().mean() * 100\n",
    "print(\"Missing ratio\")\n",
    "print(missing_percentage)"
   ]
  },
  {
   "cell_type": "markdown",
   "metadata": {},
   "source": [
    "### After determining the percentage of missing data in the columns, we will now divide them into two categories: numeric data type and non-numeric data type for processing."
   ]
  },
  {
   "cell_type": "markdown",
   "metadata": {},
   "source": [
    "# For each column with numeric data type, how are the values distributed? "
   ]
  },
  {
   "cell_type": "markdown",
   "metadata": {},
   "source": [
    "For columns with numeric data types, we will calculate:\n",
    "- Percentage (from 0 to 100) of missing values\n",
    "- The min\n",
    "- The lower quartile\n",
    "- The median\n",
    "- The upper quartile\n",
    "- The max\n",
    "\n",
    "Column with numeric data: Price and Rating"
   ]
  },
  {
   "cell_type": "markdown",
   "metadata": {},
   "source": [
    "# Save data to proccesed file \n"
   ]
  },
  {
   "cell_type": "code",
   "execution_count": 12,
   "metadata": {},
   "outputs": [],
   "source": [
    "data_origin.to_csv('data_processed.csv',index=False, encoding='utf-8-sig')"
   ]
  }
 ],
 "metadata": {
  "kernelspec": {
   "display_name": "base",
   "language": "python",
   "name": "python3"
  },
  "language_info": {
   "codemirror_mode": {
    "name": "ipython",
    "version": 3
   },
   "file_extension": ".py",
   "mimetype": "text/x-python",
   "name": "python",
   "nbconvert_exporter": "python",
   "pygments_lexer": "ipython3",
   "version": "3.11.7"
  }
 },
 "nbformat": 4,
 "nbformat_minor": 2
}
